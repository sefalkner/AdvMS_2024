{
 "cells": [
  {
   "cell_type": "code",
   "execution_count": null,
   "metadata": {},
   "outputs": [],
   "source": [
    "import numpy as np\n",
    "from numba import jit\n",
    "\n",
    "import matplotlib.pyplot as plt\n",
    "from functools import partial\n",
    "\n",
    "import sys\n",
    "sys.path.append('../miniMD')\n",
    "from miniMD import *"
   ]
  },
  {
   "attachments": {},
   "cell_type": "markdown",
   "metadata": {},
   "source": [
    "## Transition Path Sampling\n",
    "\n",
    "In this transition path sampling (TPS) exercise we aim to sample all trajectories that connect two stable states A and B in our model potential. For that, we can use a Monte Carlo algorithm following this rough scheme:\n",
    "\n",
    "1) We pick a point on the previous/initial path randomly with a uniform probability, this point is refered to as a shooting point\n",
    "2) Depending on the dynamics, we might want to perturb this point such that the new path differs from the old.\n",
    "3) Start a simulation forward and backward in time and integrate either each for $N/2$ steps or until a stable state is reached\n",
    "4) Invert the backward trajectory and concatenate the inverted backward and forward trajectory to obtain the full proposal path\n",
    "5) Accept or reject the new trajectory to sample the correct path distribution\n",
    "\n",
    "Having discussed these steps in detail in the lecture, we can here look at the practical aspects when using overdamped Langevin dynamics as in the last tutorials. Step 1 works out unchanged. However, at step 2) we do not need to modify our shooting point since the stochastic nature of the dynamics lead to a unique new path even when starting from the same initial point. In step 3), one usually negates the velocities to integrate backward in time. Afterwards in 4), given that microscopic reversibility applies, one can invert the order of the trajectory. With overdamped dynamics we do not consider velocities of the particles and, therefore, integrating forward and backward in time just means starting two trajectories and then following 4). Last but not least, using the scheme described in this section, the acceptance criterion in 5) distills down to an easy expression.\n",
    "\n",
    "For fixed-length TPS, where we integrate for $N/2$ steps forward and $N/2$ steps backward, the acceptance criterion reduces to:\n",
    "$$p_{acc}(X \\to X') = h_A(x'_0) h_B(x'_N)$$ \n",
    "That means, we can accept any path that starts in A and ends in B. Since we are often not interested in the specific direction of the path, we can also accept according to:\n",
    "$$p_{acc}(X \\to X') = h_A(x'_0) h_B(x'_N) + h_B(x'_0) h_A(x'_N)$$ \n",
    "meaning we accept any path with endpoints in opposing states.\n",
    "\n",
    "For flexibel-length TPS, the selection probability of the shooting point has to be included in the generation probability of the new path and consequently also occurs in the acceptance criterion:\n",
    "$$p_{acc}(X \\to X') = \\min \\left\\{1,  h_A(x'_0) h_B(x'_N) \\frac{N}{N'} \\right\\}$$\n",
    "where $N'$ is the length of the new path and $N$ is the length of the old path."
   ]
  },
  {
   "attachments": {},
   "cell_type": "markdown",
   "metadata": {},
   "source": [
    "We start our code with the well-known model potential:"
   ]
  },
  {
   "cell_type": "code",
   "execution_count": null,
   "metadata": {},
   "outputs": [],
   "source": [
    "\n",
    "@jit(nopython=True) \n",
    "def custom_potential_energy(current_x : np.ndarray) -> float:\n",
    "    \"\"\"\n",
    "    Calculates the potential energy given a configuration current_x. \n",
    "    \n",
    "    Parameters\n",
    "    ----------\n",
    "    current_x : np.ndarray\n",
    "        Current configuration to be propagated. The shape of the array(current_x.shape) can vary depending on the system which is simulated.\n",
    "\n",
    "    Returns\n",
    "    -------\n",
    "    U : float\n",
    "        Potential energy of the configuration\n",
    "\n",
    "    \"\"\"\n",
    "    return 10 * ((current_x[0]**2 - 1)**2 + (current_x[0] - current_x[1])**2)\n",
    "\n",
    "\n",
    "@jit(nopython=True) \n",
    "def custom_force_function(current_x : np.ndarray) -> np.ndarray:\n",
    "    \"\"\"\n",
    "    Calculates the force given a configuration current_x. \n",
    "\n",
    "    Parameters\n",
    "    ----------\n",
    "    current_x : np.ndarray\n",
    "        Current configuration to be propagated. The shape of the array(current_x.shape) can vary depending on the system which is simulated.\n",
    "\n",
    "    Returns\n",
    "    -------\n",
    "    force : np.ndarray\n",
    "        Force corresponding the provided configuration.\n",
    "\n",
    "    \"\"\"\n",
    "    force = np.zeros(2)\n",
    "    \n",
    "    force[0] = -2 * 10 * (2 * current_x[0]**3 -current_x[0] - current_x[1])\n",
    "    force[1] = 2 * 10 * (current_x[0] - current_x[1])\n",
    "\n",
    "    return force\n"
   ]
  },
  {
   "attachments": {},
   "cell_type": "markdown",
   "metadata": {},
   "source": [
    "For the definition of states A and B we use a collective variable defined as the diagonal $x+y$:"
   ]
  },
  {
   "cell_type": "code",
   "execution_count": null,
   "metadata": {},
   "outputs": [],
   "source": [
    "\n",
    "@jit(nopython=True) \n",
    "def custom_cv(current_x : np.ndarray) -> float:\n",
    "    \"\"\"\n",
    "    Calculates the collective variable zeta given a configuration current_x.\n",
    "\n",
    "    Parameters\n",
    "    ----------\n",
    "    current_x : np.ndarray\n",
    "        Current configuration. The shape of the array(current_x.shape) can vary depending on the system which is simulated.\n",
    "\n",
    "    Returns\n",
    "    -------\n",
    "    zeta : float\n",
    "        CV corresponding the provided configuration.\n",
    "    \"\"\"\n",
    "\n",
    "    return current_x[..., 0] + current_x[..., 1]"
   ]
  },
  {
   "attachments": {},
   "cell_type": "markdown",
   "metadata": {},
   "source": [
    "Below are given some simulation parameters for orientation:"
   ]
  },
  {
   "cell_type": "code",
   "execution_count": null,
   "metadata": {},
   "outputs": [],
   "source": [
    "total_trials = 5000 # Number of TPS trial steps\n",
    "equilibration_trials = 100 # Before saving trajectories, do these steps\n",
    "path_output_frequency = 10 # Save a trajectoy ever path_output_frequency steps\n",
    "\n",
    "path_length = 500   # path length for fixed length TPS, maximum path length for flexible length TPS\n",
    "configuration_output_frequency = 1 # How often configurations are saved on a path\n",
    "\n",
    "beta = 1\n",
    "timestep = 0.001\n",
    "diffusion_coefficient = 1\n",
    "\n",
    "\n",
    "assert equilibration_trials < total_trials, \"Make sure you don't equilibrate longer than you simulate.\"\n",
    "assert path_output_frequency < total_trials, \"Make sure you don't output less often than you simulate.\"\n",
    "assert path_output_frequency > 0, \"The output frequency needs to be larger than 0\"\n"
   ]
  },
  {
   "attachments": {},
   "cell_type": "markdown",
   "metadata": {},
   "source": [
    "We can use the state definition function also used in the TST notebook to check if we are in a certain state.\n",
    "\n",
    "**1) Implement two stable state functions, one should go from -inf to -2 (state A) and the other from 2 to +inf (state B).**"
   ]
  },
  {
   "cell_type": "code",
   "execution_count": null,
   "metadata": {},
   "outputs": [],
   "source": [
    "\n",
    "@jit(nopython=True) \n",
    "def custom_bounded_state(current_x : np.ndarray, cv_function : callable, bounds : tuple = (-np.inf, np.inf)  ) -> bool:\n",
    "    \"\"\"\n",
    "    Returns a bool or bool array which is true if current_x is within in the bounds.\n",
    "\n",
    "    Parameters\n",
    "    ----------\n",
    "    current_x : np.ndarray\n",
    "        Current configuration. The shape of the array(current_x.shape) can vary depending on the system which is simulated.\n",
    "\n",
    "    cv_function : callable\n",
    "        Function that accepts the current configuration and maps it onto the collective variable.\n",
    "        \n",
    "    bounds : (float, float)\n",
    "        The lower and upper bounds for x to be considered within the stable state\n",
    "\n",
    "\n",
    "    Returns\n",
    "    -------\n",
    "    inState : bool\n",
    "        True for each x in current_x if x is within the bounds\n",
    "    \"\"\"\n",
    "    cv_values = cv_function(current_x)\n",
    "    \n",
    "    return (cv_values > bounds[0]) & (cv_values < bounds[1])\n",
    "\n",
    "\n",
    "state_A_indicator = partial(...)\n",
    "state_B_indicator = partial(...)"
   ]
  },
  {
   "attachments": {},
   "cell_type": "markdown",
   "metadata": {},
   "source": [
    "Let us visualize the state definitions before starting the sampling:"
   ]
  },
  {
   "cell_type": "code",
   "execution_count": null,
   "metadata": {},
   "outputs": [],
   "source": [
    "\n",
    "\n",
    "x_values = np.linspace(-2.6, 2.6, 100)\n",
    "y_values = np.linspace(-2.6, 2.6, 100)\n",
    "\n",
    "x_grid, y_grid = np.meshgrid(x_values, y_values)\n",
    "energies = np.zeros((len(x_values), len(y_values)))\n",
    "in_state_A = np.zeros((len(x_values), len(y_values)))\n",
    "in_state_B = np.zeros((len(x_values), len(y_values)))\n",
    "\n",
    "for i in range(len(x_values)):\n",
    "    for j in range(len(y_values)):\n",
    "\n",
    "        energies[i,j] = custom_potential_energy(np.array([x_grid[i, j], y_grid[i, j]]))\n",
    "        in_state_A[i,j] = state_A_indicator(np.array([x_grid[i, j], y_grid[i, j]]))\n",
    "        in_state_B[i,j] = state_B_indicator(np.array([x_grid[i, j], y_grid[i, j]]))\n"
   ]
  },
  {
   "cell_type": "code",
   "execution_count": null,
   "metadata": {},
   "outputs": [],
   "source": [
    "fig, ax = plt.subplots(1, figsize=(4,4), dpi=180)\n",
    "\n",
    "ax.contourf(x_grid, y_grid, energies, levels=np.linspace(0, 20, 10), cmap=\"RdBu_r\")\n",
    "ax.contourf(x_grid, y_grid, in_state_A, cmap=\"Blues\", alpha=0.1)\n",
    "ax.contourf(x_grid, y_grid, in_state_B, cmap=\"Oranges\", alpha=0.1)\n",
    "\n",
    "ax.set_xlabel(\"x\")\n",
    "ax.set_ylabel(\"y\")\n",
    "\n",
    "plt.show()"
   ]
  },
  {
   "attachments": {},
   "cell_type": "markdown",
   "metadata": {},
   "source": [
    "Next we want to write a small helper function to generate a trajectory given a initial point called shooting_point. For this, you can follow the miniMD tutorial and refactor it into a function.\n",
    "\n",
    "**2) Complete the generate_path function defined below.**"
   ]
  },
  {
   "cell_type": "code",
   "execution_count": null,
   "metadata": {},
   "outputs": [],
   "source": [
    "def generate_path(shooting_point : np.ndarray, path_length : int,\n",
    "                    configuration_output_frequency : int, \n",
    "                    beta : float, timestep : float, \n",
    "                    diffusion_coefficient : float):\n",
    "    \"\"\"\n",
    "    Returns a trajectory started from the shooting point.\n",
    "\n",
    "    Parameters\n",
    "    ----------\n",
    "    shooting_point : np.ndarray\n",
    "        Initial configuration of the trajectory.\n",
    "\n",
    "    path_length : int\n",
    "        Number of integration steps of the trajectory\n",
    "        \n",
    "    configuration_output_frequency : int\n",
    "        Output frequency\n",
    "        \n",
    "    beta : float\n",
    "        1 / kT\n",
    "\n",
    "    timestep : float\n",
    "        Timestep of integration\n",
    "\n",
    "    diffusion_coefficient : float\n",
    "        Diffusion coefficient of the overdamed dynamics\n",
    "\n",
    "    Returns\n",
    "    -------\n",
    "    trajectory : np.ndarray\n",
    "        Trajectory started from shooting_point as initial configuration\n",
    "    \"\"\"\n",
    "    \n",
    "    previous_x = shooting_point.copy()\n",
    "\n",
    "    ...\n",
    "    \n",
    "    return trajectory"
   ]
  },
  {
   "attachments": {},
   "cell_type": "markdown",
   "metadata": {},
   "source": [
    "The next ingredient needed for the path sampling is an initial path for starting the Monte Carlo algorithm. Similar to MCMC in configuration space, we can a \"bad\" guess since it will relax to a more probable path during sampling. Here, we make use of the low dimensionality of the system and just use a line between A and B as an initial path:"
   ]
  },
  {
   "cell_type": "code",
   "execution_count": null,
   "metadata": {},
   "outputs": [],
   "source": [
    "current_path = np.array([np.linspace(-1, 1, path_length),np.linspace(-1, 1, path_length)]).T"
   ]
  },
  {
   "cell_type": "code",
   "execution_count": null,
   "metadata": {},
   "outputs": [],
   "source": [
    "\n",
    "fig, ax = plt.subplots(1, figsize=(4,4), dpi=180)\n",
    "\n",
    "plt.plot(current_path[:,0], current_path[:,1])\n",
    "\n",
    "ax.contourf(x_grid, y_grid, energies, levels=np.linspace(0, 20, 10), cmap=\"RdBu_r\")\n",
    "ax.contourf(x_grid, y_grid, in_state_A, cmap=\"Blues\", alpha=0.1)\n",
    "ax.contourf(x_grid, y_grid, in_state_B, cmap=\"Oranges\", alpha=0.1)\n",
    "\n",
    "ax.text(0.025, 0.1, \"State A\", transform=ax.transAxes, c=\"C0\")\n",
    "ax.text(0.825, 0.9, \"State B\", transform=ax.transAxes, c=\"C1\")\n",
    "\n",
    "ax.set_xlabel(\"x\")\n",
    "ax.set_ylabel(\"y\")\n",
    "\n",
    "plt.show()\n"
   ]
  },
  {
   "attachments": {},
   "cell_type": "markdown",
   "metadata": {},
   "source": [
    "Finally we can code the actual path sampling algorithm.\n",
    "\n",
    "**3) Implement a fixed length TPS algorithm as sketched out below.**"
   ]
  },
  {
   "cell_type": "code",
   "execution_count": null,
   "metadata": {},
   "outputs": [],
   "source": [
    "\n",
    "# Initialize output variables\n",
    "trajectory_ensemble = [] # List that should contain the trajectory ensemble\n",
    "accepted_shooting_points = [] # List that should contain all shooting points from which we managed to get a reactive path\n",
    "\n",
    "current_path = np.array([np.linspace(-1, 1, path_length),np.linspace(-1, 1, path_length)]).T\n",
    "accepted_trials = 0\n",
    "\n",
    "# Sampling\n",
    "for trial in range(total_trials):\n",
    "\n",
    "    # Select shooting point from old path\n",
    "    shooting_point = ...\n",
    "\n",
    "    # Generate forward and backward trajectory\n",
    "    forward_trj = generate_path(shooting_point, path_length // 2 + 1, configuration_output_frequency, beta, timestep, diffusion_coefficient)\n",
    "    reverse_trj = generate_path(shooting_point, path_length // 2, configuration_output_frequency, beta, timestep, diffusion_coefficient)\n",
    "\n",
    "    # Check if endpoints are in opposing stable states\n",
    "    fw_in_A = state_A_indicator(forward_trj[-1])\n",
    "    fw_in_B = ...\n",
    "\n",
    "    rv_in_A = ...\n",
    "    rv_in_B = ...\n",
    "\n",
    "    is_reactive_path = ...\n",
    "\n",
    "    # If it is reactive, accept move\n",
    "    if is_reactive_path:\n",
    "\n",
    "        current_path = np.vstack([reverse_trj[::-1], forward_trj[1:]])\n",
    "\n",
    "        accepted_shooting_points.append(...)\n",
    "        \n",
    "        accepted_trials += 1\n",
    "\n",
    "    # Add path to ensemble\n",
    "    if trial > equilibration_trials and trial % path_output_frequency == 0:\n",
    "        trajectory_ensemble.append(current_path)"
   ]
  },
  {
   "cell_type": "code",
   "execution_count": null,
   "metadata": {},
   "outputs": [],
   "source": [
    "print(\"Accepted Trials: \", accepted_trials)"
   ]
  },
  {
   "attachments": {},
   "cell_type": "markdown",
   "metadata": {},
   "source": [
    "We can visualize the resulting path ensemble. Since this is usually a bit more difficult than visualizing configurations we prepared the following plots, but feel free to give it a shot yourself.\n",
    "\n",
    "Here we can look at the last path in the ensemble in more detail:"
   ]
  },
  {
   "cell_type": "code",
   "execution_count": null,
   "metadata": {},
   "outputs": [],
   "source": [
    "\n",
    "\n",
    "fig, ax = plt.subplots(1, figsize=(4,4), dpi=180)\n",
    "\n",
    "ax.contourf(x_grid, y_grid, energies, levels=np.linspace(0, 20, 10), cmap=\"RdBu_r\")\n",
    "ax.contourf(x_grid, y_grid, in_state_A, cmap=\"Blues\", alpha=0.1)\n",
    "ax.contourf(x_grid, y_grid, in_state_B, cmap=\"Oranges\", alpha=0.1)\n",
    "\n",
    "plt.plot(trajectory_ensemble[-1][:,0], trajectory_ensemble[-1][:,1], c=\"C2\", lw=1)\n",
    "\n",
    "plt.scatter(trajectory_ensemble[-1][0,0], trajectory_ensemble[-1][0,1], c=\"r\", s=10, zorder=10)\n",
    "plt.scatter(trajectory_ensemble[-1][-1,0], trajectory_ensemble[-1][-1,1], c=\"r\", s=10, zorder=10)\n",
    "\n",
    "plt.scatter(accepted_shooting_points[-1][0], accepted_shooting_points[-1][1], c=\"b\", s=10, zorder=10)\n",
    "\n",
    "ax.text(0.025, 0.1, \"State A\", transform=ax.transAxes, c=\"C0\")\n",
    "ax.text(0.825, 0.9, \"State B\", transform=ax.transAxes, c=\"C1\")\n",
    "\n",
    "ax.set_xlabel(\"x\")\n",
    "ax.set_ylabel(\"y\")\n",
    "\n",
    "plt.show()\n",
    "\n",
    "# Red Dots: Initial and last point\n",
    "# Blue Dot: Shooting Point\n",
    "# Green: Last path"
   ]
  },
  {
   "attachments": {},
   "cell_type": "markdown",
   "metadata": {},
   "source": [
    "And now we can visualize all trajectories:"
   ]
  },
  {
   "cell_type": "code",
   "execution_count": null,
   "metadata": {},
   "outputs": [],
   "source": [
    "\n",
    "\n",
    "fig, ax = plt.subplots(1, figsize=(4,4), dpi=180)\n",
    "\n",
    "ax.contourf(x_grid, y_grid, energies, levels=np.linspace(0, 20, 10), cmap=\"RdBu_r\")\n",
    "ax.contourf(x_grid, y_grid, in_state_A, cmap=\"Blues\", alpha=0.1)\n",
    "ax.contourf(x_grid, y_grid, in_state_B, cmap=\"Oranges\", alpha=0.1)\n",
    "\n",
    "for t in trajectory_ensemble:\n",
    "    plt.plot(t[:,0], t[:,1], alpha=1, lw=0.2)\n",
    "    plt.scatter(t[0,0], t[0,1], c=\"r\", s=3, zorder=10)\n",
    "    plt.scatter(t[-1,0], t[-1,1], c=\"r\", s=3, zorder=10)\n",
    "\n",
    "for p in accepted_shooting_points:\n",
    "    plt.scatter(p[0], p[1], c=\"b\", s=10, zorder=10)\n",
    "\n",
    "ax.text(0.025, 0.1, \"State A\", transform=ax.transAxes, c=\"C0\")\n",
    "ax.text(0.825, 0.9, \"State B\", transform=ax.transAxes, c=\"C1\")\n",
    "\n",
    "ax.set_xlabel(\"x\")\n",
    "ax.set_ylabel(\"y\")\n",
    "\n",
    "plt.show()\n",
    "\n",
    "\n",
    "# Red Dots: Initial and last points\n",
    "# Blue Dot: Shooting Points\n",
    "# Lines: Trajectory ensemble"
   ]
  },
  {
   "attachments": {},
   "cell_type": "markdown",
   "metadata": {},
   "source": [
    "# Flexible Length\n",
    "\n",
    "To extend the code to flexible length TPS, we have to make two small changes:\n",
    "\n",
    "1) Implement generate_path_to_state, which is essentially generate_path but we stop the moment we are in a state and return the trajectory up to that point\n",
    "2) Include the path length ratio in the acceptance criterion\n",
    "\n",
    "**4) Adjust your generate_path method to stop when a stable state is reached.**"
   ]
  },
  {
   "cell_type": "code",
   "execution_count": null,
   "metadata": {},
   "outputs": [],
   "source": [
    "def generate_path_to_state(shooting_point : np.ndarray, path_length : int,\n",
    "                           state_functions : list,\n",
    "                            configuration_output_frequency : int, \n",
    "                            beta : float, timestep : float, \n",
    "                            diffusion_coefficient : float):\n",
    "    \"\"\"\n",
    "    Returns a trajectory started from the shooting point.\n",
    "\n",
    "    Parameters\n",
    "    ----------\n",
    "    shooting_point : np.ndarray\n",
    "        Initial configuration of the trajectory.\n",
    "\n",
    "    path_length : int\n",
    "        MAXIMUM number of integration steps of the trajectory\n",
    "        \n",
    "    state_functions : list\n",
    "        List of state indicator functions to check against if current_x is in a state (for use [state_A_indicator, state_B_indicator])\n",
    "        \n",
    "    configuration_output_frequency : int\n",
    "        Output frequency\n",
    "        \n",
    "    beta : float\n",
    "        1 / kT\n",
    "\n",
    "    timestep : float\n",
    "        Timestep of integration\n",
    "\n",
    "    diffusion_coefficient : float\n",
    "        Diffusion coefficient of the overdamed dynamics\n",
    "\n",
    "    Returns\n",
    "    -------\n",
    "    trajectory : np.ndarray\n",
    "        Trajectory started from shooting_point as initial configuration\n",
    "    \"\"\"\n",
    "\n",
    "    previous_x = shooting_point.copy()\n",
    "    \n",
    "    ...\n",
    "\n",
    "    return trajectory"
   ]
  },
  {
   "attachments": {},
   "cell_type": "markdown",
   "metadata": {},
   "source": [
    "We can again start with our initial path as a line from A to B:"
   ]
  },
  {
   "cell_type": "code",
   "execution_count": null,
   "metadata": {},
   "outputs": [],
   "source": [
    "current_path = np.array([np.linspace(-1, 1, path_length),np.linspace(-1, 1, path_length)]).T"
   ]
  },
  {
   "cell_type": "code",
   "execution_count": null,
   "metadata": {},
   "outputs": [],
   "source": [
    "\n",
    "fig, ax = plt.subplots(1, figsize=(4,4), dpi=180)\n",
    "\n",
    "plt.plot(current_path[:,0], current_path[:,1])\n",
    "\n",
    "ax.contourf(x_grid, y_grid, energies, levels=np.linspace(0, 20, 10), cmap=\"RdBu_r\")\n",
    "ax.contourf(x_grid, y_grid, in_state_A, cmap=\"Blues\", alpha=0.1)\n",
    "ax.contourf(x_grid, y_grid, in_state_B, cmap=\"Oranges\", alpha=0.1)\n",
    "\n",
    "ax.text(0.025, 0.1, \"State A\", transform=ax.transAxes, c=\"C0\")\n",
    "ax.text(0.825, 0.9, \"State B\", transform=ax.transAxes, c=\"C1\")\n",
    "\n",
    "ax.set_xlabel(\"x\")\n",
    "ax.set_ylabel(\"y\")\n",
    "\n",
    "plt.show()\n"
   ]
  },
  {
   "attachments": {},
   "cell_type": "markdown",
   "metadata": {},
   "source": [
    "Now to the sampling code: Due to outsourcing the generate_path_to_state method, we do only need to make a small adjustment in the aceptance criterion. That is, to include the ratio of path lengths as described in the introduction at the top of the notebook.\n",
    "\n",
    "**5) Adjust your sampling code to support flexibel length transition paths.**"
   ]
  },
  {
   "cell_type": "code",
   "execution_count": null,
   "metadata": {},
   "outputs": [],
   "source": [
    "\n",
    "# Initialize output variables\n",
    "trajectory_ensemble = [] # List that should contain the trajectory ensemble\n",
    "accepted_shooting_points = [] # List that should contain all shooting points from which we managed to get a reactive path\n",
    "\n",
    "current_path = np.array([np.linspace(-1, 1, path_length),np.linspace(-1, 1, path_length)]).T\n",
    "accepted_trials = 0\n",
    "\n",
    "# Sampling\n",
    "for trial in range(total_trials):\n",
    "\n",
    "    # Select shooting point from old path\n",
    "    shooting_point = ...\n",
    "\n",
    "    # Generate forward and backward trajectory\n",
    "    forward_trj = generate_path_to_state(shooting_point, path_length // 2 + 1, [state_A_indicator, state_B_indicator], configuration_output_frequency, beta, timestep, diffusion_coefficient)\n",
    "    reverse_trj = generate_path_to_state(shooting_point, path_length // 2, [state_A_indicator, state_B_indicator], configuration_output_frequency, beta, timestep, diffusion_coefficient)\n",
    "\n",
    "    # Check if endpoints are in opposing stable states\n",
    "    fw_in_A = state_A_indicator(forward_trj[-1])\n",
    "    fw_in_B = ...\n",
    "\n",
    "    rv_in_A = ...\n",
    "    rv_in_B = ...\n",
    "\n",
    "    is_reactive_path = ...\n",
    "\n",
    "    # If it is reactive, check length ratio\n",
    "    if is_reactive_path:\n",
    "\n",
    "        # calculate length ratio\n",
    "        length_ratio = ...\n",
    "        \n",
    "        # Accept or reject\n",
    "        if ... :\n",
    "\n",
    "            current_path = np.vstack([reverse_trj[::-1], forward_trj[1:]])\n",
    "\n",
    "            accepted_shooting_points.append(...)\n",
    "            \n",
    "            accepted_trials += 1\n",
    "\n",
    "    # Add path to ensemble\n",
    "    if trial > equilibration_trials and trial % path_output_frequency == 0:\n",
    "        trajectory_ensemble.append(current_path)"
   ]
  },
  {
   "attachments": {},
   "cell_type": "markdown",
   "metadata": {},
   "source": [
    "**6) Describe the difference between the flexibel and fixed length path ensembles given the visualization below.**"
   ]
  },
  {
   "cell_type": "code",
   "execution_count": null,
   "metadata": {},
   "outputs": [],
   "source": [
    "\n",
    "\n",
    "fig, ax = plt.subplots(1, figsize=(4,4), dpi=180)\n",
    "\n",
    "ax.contourf(x_grid, y_grid, energies, levels=np.linspace(0, 20, 10), cmap=\"RdBu_r\")\n",
    "ax.contourf(x_grid, y_grid, in_state_A, cmap=\"Blues\", alpha=0.1)\n",
    "ax.contourf(x_grid, y_grid, in_state_B, cmap=\"Oranges\", alpha=0.1)\n",
    "\n",
    "plt.plot(trajectory_ensemble[-1][:,0], trajectory_ensemble[-1][:,1], c=\"C2\", lw=1)\n",
    "\n",
    "plt.scatter(trajectory_ensemble[-1][0,0], trajectory_ensemble[-1][0,1], c=\"r\", s=10, zorder=10)\n",
    "plt.scatter(trajectory_ensemble[-1][-1,0], trajectory_ensemble[-1][-1,1], c=\"r\", s=10, zorder=10)\n",
    "\n",
    "ax.text(0.025, 0.1, \"State A\", transform=ax.transAxes, c=\"C0\")\n",
    "ax.text(0.825, 0.9, \"State B\", transform=ax.transAxes, c=\"C1\")\n",
    "\n",
    "ax.set_xlabel(\"x\")\n",
    "ax.set_ylabel(\"y\")\n",
    "\n",
    "plt.show()\n"
   ]
  },
  {
   "cell_type": "code",
   "execution_count": null,
   "metadata": {},
   "outputs": [],
   "source": [
    "\n",
    "\n",
    "fig, ax = plt.subplots(1, figsize=(4,4), dpi=180)\n",
    "\n",
    "ax.contourf(x_grid, y_grid, energies, levels=np.linspace(0, 20, 10), cmap=\"RdBu_r\")\n",
    "ax.contourf(x_grid, y_grid, in_state_A, cmap=\"Blues\", alpha=0.1)\n",
    "ax.contourf(x_grid, y_grid, in_state_B, cmap=\"Oranges\", alpha=0.1)\n",
    "\n",
    "for t in trajectory_ensemble:\n",
    "    plt.plot(t[:,0], t[:,1], alpha=1, lw=0.2)\n",
    "    plt.scatter(t[0,0], t[0,1], c=\"r\", s=3, zorder=10)\n",
    "    plt.scatter(t[-1,0], t[-1,1], c=\"r\", s=3, zorder=10)\n",
    "\n",
    "ax.text(0.025, 0.1, \"State A\", transform=ax.transAxes, c=\"C0\")\n",
    "ax.text(0.825, 0.9, \"State B\", transform=ax.transAxes, c=\"C1\")\n",
    "\n",
    "ax.set_xlabel(\"x\")\n",
    "ax.set_ylabel(\"y\")\n",
    "\n",
    "plt.show()\n"
   ]
  },
  {
   "attachments": {},
   "cell_type": "markdown",
   "metadata": {},
   "source": [
    "In the last part of this notebook, we can have a look at the free energy as a function of the collective variables.\n",
    "We can compare the free energy of configurations on transition paths with a reference free energy of an equilibrium simulation. \n",
    "\n",
    "**7) Estimate the free energy along the custom_cv for configurations on transition paths.**\n",
    "TIP: you should first pool all configurations in a big numpy array and then use np.histogram."
   ]
  },
  {
   "cell_type": "code",
   "execution_count": null,
   "metadata": {},
   "outputs": [],
   "source": [
    "bins = np.linspace(-3, 3, 50)\n",
    "bin_centers = (bins[:-1] + bins[1:]) / 2\n",
    "\n",
    "cv_values = ...\n",
    "density, bin_edges = np.histogram(cv_values, bins=bins, density=True)\n",
    "\n",
    "free_energy = ..."
   ]
  },
  {
   "attachments": {},
   "cell_type": "markdown",
   "metadata": {},
   "source": [
    "**8) Compare the free energy based on configurations on transition paths with the equilibrium simulation free energy and explain the cause for the difference.**"
   ]
  },
  {
   "cell_type": "code",
   "execution_count": null,
   "metadata": {},
   "outputs": [],
   "source": [
    "fig, ax = plt.subplots(1, figsize=(4,3), dpi=180)\n",
    "\n",
    "ref_x, ref_F = np.load(\"bin_centers_x+y.npy\"), np.load(\"free_energy_x+y.npy\")\n",
    "ref_F -= np.min(ref_F)\n",
    "\n",
    "ax.plot(ref_x, ref_F, label=\"Reference\")\n",
    "ax.plot(bin_centers, free_energy - np.min(free_energy), label=\"TPS\")\n",
    "\n",
    "ax.legend(frameon=False)\n",
    "ax.set_xlabel(\"x\")\n",
    "ax.set_ylabel(\"F(x)\")\n",
    "plt.show()"
   ]
  },
  {
   "cell_type": "code",
   "execution_count": null,
   "metadata": {},
   "outputs": [],
   "source": []
  }
 ],
 "metadata": {
  "kernelspec": {
   "display_name": "pytorch",
   "language": "python",
   "name": "python3"
  },
  "language_info": {
   "codemirror_mode": {
    "name": "ipython",
    "version": 3
   },
   "file_extension": ".py",
   "mimetype": "text/x-python",
   "name": "python",
   "nbconvert_exporter": "python",
   "pygments_lexer": "ipython3",
   "version": "3.10.6"
  },
  "orig_nbformat": 4,
  "vscode": {
   "interpreter": {
    "hash": "20b456e16073831ec6c10d35936184755d214b6bff30c3de630d0c0a0c56da53"
   }
  }
 },
 "nbformat": 4,
 "nbformat_minor": 2
}
