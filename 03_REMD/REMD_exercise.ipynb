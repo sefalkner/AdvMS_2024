{
 "cells": [
  {
   "cell_type": "code",
   "execution_count": null,
   "metadata": {},
   "outputs": [],
   "source": [
    "import numpy as np\n",
    "from numba import jit\n",
    "\n",
    "import matplotlib.pyplot as plt\n",
    "\n",
    "from functools import partial\n",
    "\n",
    "import sys\n",
    "sys.path.append('../miniMD')\n",
    "from miniMD import *"
   ]
  },
  {
   "attachments": {},
   "cell_type": "markdown",
   "metadata": {},
   "source": [
    "# Temperature Replica Exchange Molecular Dynamics\n",
    "\n",
    "In TREMD, we simulate the same system at various temperatures and attempt to exchange replicas every once in a while. The idea here is that in higher temperatures we have shorter correlation times since the system can cross energetic barriers significantly faster. By exchanging these decorrelated configurations with lower temperature replicas, the efficiency of the simulation is increased.\n",
    "\n",
    "However, we need to make sure that the exchanges are made in such a way that the Boltzmann distribution in each replica is preserved:\n",
    "\n",
    "$$p_i(x) = Z_i^{-1} e^{-\\beta_i U(x)}$$\n",
    "\n",
    "where $i$ denotes the index of the replica and $\\beta_i \\equiv 1/k_B T_i$ is the temperature corresponding the the $i$-th replica.\n",
    "\n",
    "This is made sure by exchaning according to a Metropolis acceptance criterion given by:\n",
    "\n",
    "$$p_{\\text{acc}}(i \\leftrightarrow j) = \\min\\left\\{ 1, \\exp[- \\Delta U_{ij} (\\beta_i - \\beta_j)] \\right\\}$$\n",
    "\n",
    "where $i \\leftrightarrow j$ denotes a swap between replicas $i$ and $j$. For calculating this probability, we need to know the difference between the betas and the potential energy difference between the configurations of each replica:\n",
    "\n",
    "$$\\Delta U_{ij} = U(x_i) - U(x_j)$$\n",
    "\n",
    "\n"
   ]
  },
  {
   "attachments": {},
   "cell_type": "markdown",
   "metadata": {},
   "source": [
    "We start with a provided force and energy of a 2D system:"
   ]
  },
  {
   "cell_type": "code",
   "execution_count": null,
   "metadata": {},
   "outputs": [],
   "source": [
    "\n",
    "@jit(nopython=True) \n",
    "def custom_potential_energy(current_x : np.ndarray) -> float:\n",
    "    \"\"\"\n",
    "    Calculates the potential energy given a configuration current_x. \n",
    "    \n",
    "    Parameters\n",
    "    ----------\n",
    "    current_x : np.ndarray\n",
    "        Current configuration to be propagated. The shape of the array(current_x.shape) can vary depending on the system which is simulated.\n",
    "\n",
    "    Returns\n",
    "    -------\n",
    "    U : float\n",
    "        Potential energy of the configuration\n",
    "\n",
    "    \"\"\"\n",
    "    return 10 * ((current_x[0]**2 - 1)**2 + (current_x[0] - current_x[1])**2)\n",
    "\n",
    "\n",
    "@jit(nopython=True) \n",
    "def custom_force_function(current_x : np.ndarray) -> np.ndarray:\n",
    "    \"\"\"\n",
    "    Calculates the force given a configuration current_x. \n",
    "\n",
    "    Parameters\n",
    "    ----------\n",
    "    current_x : np.ndarray\n",
    "        Current configuration to be propagated. The shape of the array(current_x.shape) can vary depending on the system which is simulated.\n",
    "\n",
    "    Returns\n",
    "    -------\n",
    "    force : np.ndarray\n",
    "        Force corresponding the provided configuration.\n",
    "\n",
    "    \"\"\"\n",
    "    force = np.zeros(2)\n",
    "    \n",
    "    force[0] = -20 * (2 * current_x[0]**3 -current_x[0] - current_x[1])\n",
    "    force[1] = 20 * (current_x[0] - current_x[1])\n",
    "\n",
    "    return force\n"
   ]
  },
  {
   "attachments": {},
   "cell_type": "markdown",
   "metadata": {},
   "source": [
    "Next up here are some parameters for the simulation, notice especially the REMP specific ones. The list beta_range describes the betas for the different replicas. Remember, small beta = large temperature and vice versa. The exchange frequency should describe how often an exchange is attempted. N_replicas just stores the overall number of replicas."
   ]
  },
  {
   "cell_type": "code",
   "execution_count": null,
   "metadata": {},
   "outputs": [],
   "source": [
    "total_steps = 50000\n",
    "equilibration_steps = 1000\n",
    "output_frequency = 1\n",
    "\n",
    "# REMD specific\n",
    "beta_range = [0.1, 0.2, 0.4, 0.8, 1]\n",
    "exchange_frequency = 100\n",
    "N_replicas = len(beta_range)\n",
    "\n",
    "beta = 1\n",
    "timestep = 0.001\n",
    "diffusion_coefficient = 1\n",
    "\n",
    "initial_x = np.zeros(2)\n",
    "\n",
    "assert equilibration_steps < total_steps, \"Make sure you don't equilibrate longer than you simulate.\"\n",
    "assert output_frequency < total_steps, \"Make sure you don't output less often than you simulate.\"\n",
    "assert exchange_frequency < total_steps, \"Make sure you don't exchange less often than you simulate.\"\n",
    "assert output_frequency > 0, \"The output frequency needs to be larger than 0\"\n"
   ]
  },
  {
   "attachments": {},
   "cell_type": "markdown",
   "metadata": {},
   "source": [
    "### Simulating replicas without exchanges\n",
    "\n",
    "Now comes the implementation part. From the last tutorials you should have an idea how to code a small MD. As a first step towards REMD, we can simulate the different replicas without exchanging between them.\n",
    "\n",
    "**1) Write a code that simulates the replicas without exchanges between them.** TIP: For each step, propagate each replica one timestep. NOT the other way around, which would be to simulate for N steps each replica."
   ]
  },
  {
   "cell_type": "code",
   "execution_count": null,
   "metadata": {},
   "outputs": [],
   "source": [
    "# Intialize output variables\n",
    "\n",
    "...\n",
    "\n",
    "# Run simulations\n",
    "\n",
    "for step in range(total_steps):\n",
    "\n",
    "    for rep in range(N_replicas):\n",
    "        \n",
    "        ..."
   ]
  },
  {
   "attachments": {},
   "cell_type": "markdown",
   "metadata": {},
   "source": [
    "**2) Plot the trajectories of each replicas side-by-side or on top of each other. Describe what differentiates each of them.**"
   ]
  },
  {
   "cell_type": "code",
   "execution_count": null,
   "metadata": {},
   "outputs": [],
   "source": [
    "fig, ax = plt.subplots(1, figsize=(4,4), dpi=180)\n",
    "\n",
    "\n",
    "for i in range(N_replicas):\n",
    "\n",
    "    ...\n",
    "\n",
    "\n",
    "x_values = np.linspace(-2.6, 2.6, 100)\n",
    "y_values = np.linspace(-2.6, 2.6, 100)\n",
    "\n",
    "x_grid, y_grid = np.meshgrid(x_values, y_values)\n",
    "energies = np.zeros((len(x_values), len(y_values)))\n",
    "\n",
    "for i in range(len(x_values)):\n",
    "    for j in range(len(y_values)):\n",
    "\n",
    "        energies[i,j] = custom_potential_energy(np.array([x_grid[i, j], y_grid[i, j]]))\n",
    "\n",
    "ax.contourf(x_grid, y_grid, energies, levels=np.linspace(0, 20, 10), cmap=\"RdBu_r\")\n",
    "\n",
    "ax.legend(frameon=False, loc=\"upper left\")\n",
    "ax.set_xlabel(\"x\")\n",
    "ax.set_ylabel(\"y\")\n",
    "\n",
    "plt.show()"
   ]
  },
  {
   "attachments": {},
   "cell_type": "markdown",
   "metadata": {},
   "source": [
    "**3) Calculate the free energy along x using Boltzmann inversion. Compare the free energies and describe the behaviour at each temperature.**"
   ]
  },
  {
   "cell_type": "code",
   "execution_count": null,
   "metadata": {},
   "outputs": [],
   "source": [
    "replica_free_energies = []\n",
    "bins = np.linspace(-2,2,100)\n",
    "bin_centers = (bins[1:] + bins[:-1]) / 2\n",
    "\n",
    "for i in range(N_replicas):\n",
    "\n",
    "    ..."
   ]
  },
  {
   "cell_type": "code",
   "execution_count": null,
   "metadata": {},
   "outputs": [],
   "source": [
    "fig, ax = plt.subplots(1, figsize=(4,3), dpi=180)\n",
    "\n",
    "for i, d in enumerate(replica_free_energies):\n",
    "\n",
    "    ax.plot(bin_centers, d - np.min(d))\n",
    "    \n",
    "ax.set_xlabel(\"x\")\n",
    "ax.set_ylabel(r\"F$_{bias}$(x)\")\n",
    "plt.show()"
   ]
  },
  {
   "attachments": {},
   "cell_type": "markdown",
   "metadata": {},
   "source": [
    "### Replica Exchange\n",
    "\n",
    "Now we are ready to add exchanges to our simulation code. We here want the simplest code possible, therefore I'd recommend to:\n",
    "\n",
    "1) Every exchange_frequency steps:\n",
    "2) Draw a random integer i and j both within [0, N_replicas[\n",
    "3) Calculate the acceptance criterion mentioned in the introduction\n",
    "4) If accepted, swap the configurations of the two simulations. \n",
    "\n",
    "Regarding 4), swapping beta is sometimes also done in simulation codes. While both are physically correct, it depends on whether you want a continuous trajectory or a trajectory at constant temperature for each replica.\n",
    "\n",
    "**4) Implement a replica exchange MD code. Try to reuse the code above and see how you can accomodate the exchange code.**\n"
   ]
  },
  {
   "cell_type": "code",
   "execution_count": null,
   "metadata": {},
   "outputs": [],
   "source": [
    "# This array should track all exchanges. At the end oth the simulation, \n",
    "# exchange_matrix[i,j] should count how often you have selected i and switched it with j.\n",
    "\n",
    "exchange_matrix = np.zeros((N_replicas, N_replicas), dtype=int)"
   ]
  },
  {
   "cell_type": "code",
   "execution_count": null,
   "metadata": {},
   "outputs": [],
   "source": [
    "# Initialize Output Variables\n",
    "\n",
    "...\n",
    "\n",
    "# Run REMD\n",
    "\n",
    "for step in range(total_steps):\n",
    "\n",
    "    for rep in range(N_replicas):\n",
    "        \n",
    "        ...\n",
    "\n",
    "    # Skip the exchange code below if step is not divisible by exchange_frequency\n",
    "    if step % exchange_frequency != 0: continue\n",
    "\n",
    "    #\n",
    "    #   Attempt Exchange\n",
    "    #\n",
    "\n",
    "    ..."
   ]
  },
  {
   "attachments": {},
   "cell_type": "markdown",
   "metadata": {},
   "source": [
    "**5) Plot the trajectories of each replicas side-by-side or on top of each other. Describe the difference to the above plot without exchanges.**"
   ]
  },
  {
   "cell_type": "code",
   "execution_count": null,
   "metadata": {},
   "outputs": [],
   "source": [
    "fig, ax = plt.subplots(1, figsize=(4,4), dpi=180)\n",
    "\n",
    "ax.contourf(x_grid, y_grid, energies, levels=np.linspace(0, 20, 10), cmap=\"RdBu_r\")\n",
    "\n",
    "for i in range(N_replicas):\n",
    "\n",
    "    ...\n",
    "\n",
    "ax.legend(frameon=False, loc=\"upper left\")\n",
    "ax.set_xlabel(\"x\")\n",
    "ax.set_ylabel(\"y\")\n",
    "\n",
    "plt.show()"
   ]
  },
  {
   "attachments": {},
   "cell_type": "markdown",
   "metadata": {},
   "source": [
    "**6) Calculate the free energy along x using simple Boltzmann inversion. Compare the free energies to the ones without exchanges.**"
   ]
  },
  {
   "cell_type": "code",
   "execution_count": null,
   "metadata": {},
   "outputs": [],
   "source": [
    "replica_free_energies = []\n",
    "bins = np.linspace(-2,2,100)\n",
    "bin_centers = (bins[1:] + bins[:-1]) / 2\n",
    "\n",
    "for i in range(N_replicas):\n",
    "\n",
    "    ..."
   ]
  },
  {
   "cell_type": "code",
   "execution_count": null,
   "metadata": {},
   "outputs": [],
   "source": [
    "fig, ax = plt.subplots(1, figsize=(4,3), dpi=180)\n",
    "\n",
    "for i, d in enumerate(replica_free_energies):\n",
    "\n",
    "    ax.plot(bin_centers, d - np.min(d))\n",
    "    \n",
    "ax.set_xlabel(\"x\")\n",
    "ax.set_ylabel(r\"F$_{bias}$(x)\")\n",
    "plt.show()"
   ]
  },
  {
   "attachments": {},
   "cell_type": "markdown",
   "metadata": {},
   "source": [
    "**7) Visualize the exchange matrix with a proper scale and axis labels.**\n",
    "\n",
    "**8) Describe which replicas exchanged most and least and give an explanation for this outcome.**"
   ]
  },
  {
   "cell_type": "code",
   "execution_count": null,
   "metadata": {},
   "outputs": [],
   "source": [
    "..."
   ]
  },
  {
   "attachments": {},
   "cell_type": "markdown",
   "metadata": {},
   "source": [
    "### Optional\n",
    "\n",
    "- Besides TREMD, there is the massively successful Hamiltonian replica exchange. Here, you can exchange between two systems of different potential energy functions. This is VERY nice in case you have e.g. a biased system and an unbiased one, as in metadynamics or umbrella sampling. Also in free energy perturbation, one can use this trick to decrease correlations between samples. The exchange criterion is as easy as the TREMD one, see equation (5) here, where you can even cancel the kT's:\n",
    "https://manual.gromacs.org/documentation/2021/reference-manual/algorithms/replica-exchange.html\n",
    "Try to implement such an exchange scheme, you can recycle code from the FEP tutorial.\n"
   ]
  },
  {
   "cell_type": "markdown",
   "metadata": {},
   "source": []
  }
 ],
 "metadata": {
  "kernelspec": {
   "display_name": "pytorch",
   "language": "python",
   "name": "python3"
  },
  "language_info": {
   "codemirror_mode": {
    "name": "ipython",
    "version": 3
   },
   "file_extension": ".py",
   "mimetype": "text/x-python",
   "name": "python",
   "nbconvert_exporter": "python",
   "pygments_lexer": "ipython3",
   "version": "3.10.6"
  },
  "orig_nbformat": 4,
  "vscode": {
   "interpreter": {
    "hash": "20b456e16073831ec6c10d35936184755d214b6bff30c3de630d0c0a0c56da53"
   }
  }
 },
 "nbformat": 4,
 "nbformat_minor": 2
}
