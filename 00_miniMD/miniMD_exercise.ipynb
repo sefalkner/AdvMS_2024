{
 "cells": [
  {
   "cell_type": "code",
   "execution_count": null,
   "metadata": {},
   "outputs": [],
   "source": [
    "import numpy as np\n",
    "from numba import jit\n",
    "\n",
    "import matplotlib.pyplot as plt"
   ]
  },
  {
   "attachments": {},
   "cell_type": "markdown",
   "metadata": {},
   "source": [
    "## Introduction to miniMD"
   ]
  },
  {
   "attachments": {},
   "cell_type": "markdown",
   "metadata": {},
   "source": [
    "### Implementing your own systems\n",
    "\n",
    "Important for any molecular dynamics or monte carlo simulation are the potential energy function and force function of the system and the choice of the intrgrator. For the latter, we here use simple overdamped langevin dynamics with the intend of making the implementation easy to read. The integrator is already implemented, nevertheless, we will dicuss it in a second. All implementations are heavily based on numpy and we use Numba to just-in-time compile the functions for an increase in performance. If you run into error messages, it can be very useful to disable the jit-compilation by commenting the '@jit(nopython=True)' line.\n",
    "\n",
    "The force and energy of the system is the part that you will have to modify frequently. The functions below show an example implementation for an harmonic oscillator:\n",
    "\n"
   ]
  },
  {
   "cell_type": "code",
   "execution_count": null,
   "metadata": {},
   "outputs": [],
   "source": [
    "\n",
    "@jit(nopython=True) \n",
    "def custom_potential_energy(current_x : np.ndarray) -> float:\n",
    "    \"\"\"\n",
    "    Calculates the potential energy given a configuration current_x. \n",
    "    The example here is for a harmonic oscillator with a force constant of 1.\n",
    "\n",
    "    Parameters\n",
    "    ----------\n",
    "    current_x : np.ndarray\n",
    "        Current configuration to be propagated. The shape of the array(current_x.shape) can vary depending on the system which is simulated.\n",
    "\n",
    "    Returns\n",
    "    -------\n",
    "    U : float\n",
    "        Potential energy of the configuration\n",
    "\n",
    "    \"\"\"\n",
    "\n",
    "    potential_energy = 0.5 * current_x**2\n",
    "\n",
    "    return potential_energy\n",
    "\n",
    "\n",
    "@jit(nopython=True) \n",
    "def custom_force_function(current_x : np.ndarray) -> np.ndarray:\n",
    "    \"\"\"\n",
    "    Calculates the force given a configuration current_x. The example here \n",
    "    is for a harmonic oscillator with a force constant of 1.\n",
    "\n",
    "    Remember: The force is the negative gradient of the potential energy with \n",
    "    respect to the current configuration. Therefore, it must be of the same \n",
    "    dimensionality as the configuration.\n",
    "\n",
    "    Parameters\n",
    "    ----------\n",
    "    current_x : np.ndarray\n",
    "        Current configuration to be propagated. The shape of the array(current_x.shape) can vary depending on the system which is simulated.\n",
    "\n",
    "    Returns\n",
    "    -------\n",
    "    force : np.ndarray\n",
    "        Force corresponding the provided configuration.\n",
    "\n",
    "    \"\"\"\n",
    "    \n",
    "    force = -current_x\n",
    "\n",
    "    return force\n"
   ]
  },
  {
   "attachments": {},
   "cell_type": "markdown",
   "metadata": {},
   "source": [
    "You can see that the potential energy function takes as an argument a numpy array and maps it to a float. Compared to that, the force, defined as the negative gradient of the energy with respect to the positions, returns also a numpy array.\n",
    "\n",
    "### The simulation code\n",
    "\n",
    "For the simulation, we use a simple overdamped langevin integrator that updates the particles position based on the force $f(x)$, the diffusion coefficient $D$ and the timestep $\\Delta t$:\n",
    "$$x_{i+1} = x_i + \\beta D f(x) \\Delta t + \\sqrt{2 D \\Delta t} * g$$\n",
    "where g is a random number drawn from the standard normal distribution.\n",
    "\n",
    "The routine to update the positions will usually be hidden in 'miniMD.py'. However, we can have a look at it here:"
   ]
  },
  {
   "cell_type": "code",
   "execution_count": null,
   "metadata": {},
   "outputs": [],
   "source": [
    "\n",
    "import numpy as np\n",
    "from numba import jit\n",
    "\n",
    "@jit(nopython=True) \n",
    "def update_positions(current_x : np.ndarray, force : np.ndarray, beta : float, dt : float, diffusion_coeff : float) -> np.ndarray:\n",
    "    \"\"\"\n",
    "    Update the positions using overdamped langevin dynamics:\n",
    "\n",
    "        x_(i+1) = x_i + D * beta * force * dt + sqrt(2 * D * dt) * g\n",
    "\n",
    "    where x_i are the positions at i (current_x) and x_(i+1) are the updated positions (next_x). \n",
    "    The diffusion coefficient D (diffusion_coeff), the timestep dt, the temperature in form of \n",
    "    beta and the force are needed for the propagation. The factor g is a random number from a \n",
    "    standard normal distribution.\n",
    "\n",
    "    Parameters\n",
    "    ----------\n",
    "    current_x : np.ndarray\n",
    "        Current configuration to be propagated. The shape of the array(current_x.shape) can vary depending on the system which is simulated.\n",
    "        \n",
    "    force : np.ndarray\n",
    "        The force corresponding to current_x. This has to be of the same shape as current_x. \n",
    "\n",
    "    beta : float\n",
    "        Beta determines the simulation temperature, it is equivalent to 1/kT. Must be greater than 0. \n",
    "\n",
    "    dt : float\n",
    "        The simulation timestep for the propagation of current_x. Must be greater than 0. Decrease this or diffusion_coeff if you experience an unstable configuration.\n",
    "    \n",
    "    diffusion_coeff : float\n",
    "        The diffusion coefficient for the propagation of current_x determining the magnitude of random \"bumps\". Must be greater than 0. Decrease this or diffusion_coeff if you experience an unstable configuration.\n",
    "        \n",
    "    Returns\n",
    "    -------\n",
    "    new_x : np.ndarray\n",
    "        Updated Configuration.\n",
    "\n",
    "    \"\"\"\n",
    "\n",
    "    assert dt > 0, \"Timestep must be positive.\"\n",
    "    assert diffusion_coeff > 0, \"Diffusion coefficient must be positive.\"\n",
    "    assert beta > 0, \"Temperature must be positive.\"\n",
    "    assert current_x.shape == force.shape, \"Force and position vector must be of the same size, check your force function.\"\n",
    "\n",
    "    # Draw random number from a standard normal distribution\n",
    "    gauss_rand = np.random.randn(*current_x.shape).astype(np.float32)\n",
    "    \n",
    "    # Calculate displacement\n",
    "    prefactor = np.sqrt(2 * diffusion_coeff * dt)\n",
    "    dx = diffusion_coeff * dt * force * beta + prefactor * gauss_rand\n",
    "\n",
    "    # Update the configuration x\n",
    "    next_x = current_x + dx\n",
    "    \n",
    "    return next_x"
   ]
  },
  {
   "attachments": {},
   "cell_type": "markdown",
   "metadata": {},
   "source": [
    "The function takes the current positions in form of current_x and the force, ideally calculated using your implementation, and updates the positions. Again, if you later on see strange errors, try to comment the jit-line. Now for a first exercise:"
   ]
  },
  {
   "attachments": {},
   "cell_type": "markdown",
   "metadata": {},
   "source": [
    "**1) Given the x_values and the plotting script below, make a plot of the potential energy and the force as a function of x_values.**"
   ]
  },
  {
   "cell_type": "code",
   "execution_count": null,
   "metadata": {},
   "outputs": [],
   "source": [
    "x_values = np.linspace(-2, 2, 100)\n",
    "\n",
    "energies = ...\n",
    "forces = ...\n",
    "\n",
    "# Plotting\n",
    "fig, ax = plt.subplots(1, 2, figsize=(5,2.5), dpi=180)\n",
    "\n",
    "ax[0].plot(energies, lw=1)\n",
    "ax[1].plot(forces, lw=1)\n",
    "\n",
    "ax[0].set_xlabel(\"x\")\n",
    "ax[0].set_ylabel(\"U(x)\")\n",
    "\n",
    "ax[1].set_xlabel(\"x\")\n",
    "ax[1].set_ylabel(\"f(x)\")\n",
    "\n",
    "ax[0].set_title(\"Potential Energy\")\n",
    "ax[1].set_title(\"Force\")\n",
    "plt.tight_layout()"
   ]
  },
  {
   "attachments": {},
   "cell_type": "markdown",
   "metadata": {},
   "source": [
    "### Running a simulation\n",
    "\n",
    "Next up we want to code an actual simulation. Below, we have prepared for you some settings for an MD simulation, the comments describe their desired role:\n"
   ]
  },
  {
   "cell_type": "code",
   "execution_count": null,
   "metadata": {},
   "outputs": [],
   "source": [
    "# Number of integration steps in total\n",
    "total_steps = 5000000\n",
    "\n",
    "# Number of steps for equilibration before we record the trajectory, sometimes called 'burn-in time'\n",
    "equilibration_steps = 10\n",
    "\n",
    "# How many integration steps are between two frames\n",
    "output_frequency = 1\n",
    "\n",
    "beta = 1 # beta = 1/(k_B*T)\n",
    "timestep = 0.001\n",
    "diffusion_coefficient = 1\n",
    "\n",
    "# The initial positions to start the simulation, here just a 1D array of zeros\n",
    "initial_x = np.zeros(1)\n",
    "\n",
    "# Some sanity checks :)\n",
    "assert equilibration_steps < total_steps, \"Make sure you don't equilibrate longer than you simulate.\"\n",
    "assert output_frequency < total_steps, \"Make sure you don't output less often than you simulate.\"\n",
    "assert output_frequency > 0, \"The output frequency needs to be larger than 0\"\n"
   ]
  },
  {
   "attachments": {},
   "cell_type": "markdown",
   "metadata": {},
   "source": [
    "**2) With these variables in mind, write a small MD code that outputs a trajectory.** It should produce a trajectory, that means a list or (better) an array of frames corresponding to each time slice."
   ]
  },
  {
   "cell_type": "code",
   "execution_count": null,
   "metadata": {},
   "outputs": [],
   "source": [
    "# Initialize variables\n",
    "\n",
    "...\n",
    "\n",
    "# Run Simulation\n",
    "for step in range(total_steps):\n",
    "\n",
    "    ..."
   ]
  },
  {
   "attachments": {},
   "cell_type": "markdown",
   "metadata": {},
   "source": [
    "**3) Plot the trajectory as a function of the frame number.**"
   ]
  },
  {
   "cell_type": "code",
   "execution_count": null,
   "metadata": {},
   "outputs": [],
   "source": [
    "trajectory = ...\n",
    "\n",
    "# Plotting\n",
    "fig, ax = plt.subplots(1, figsize=(4,3), dpi=180)\n",
    "\n",
    "ax.plot(trajectory, lw=1)\n",
    "\n",
    "ax.set_xlabel(\"Frame\")\n",
    "ax.set_ylabel(\"x\")\n",
    "\n",
    "plt.show()"
   ]
  },
  {
   "attachments": {},
   "cell_type": "markdown",
   "metadata": {},
   "source": [
    "**4) Plot the energy of each configuration on the trajectory as a function of the frame number.**"
   ]
  },
  {
   "cell_type": "code",
   "execution_count": null,
   "metadata": {},
   "outputs": [],
   "source": [
    "\n",
    "energy_trajectory = ...\n",
    "\n",
    "\n",
    "# Plotting\n",
    "fig, ax = plt.subplots(1, figsize=(4,3), dpi=180)\n",
    "\n",
    "ax.plot(energy_trajectory, lw=1)\n",
    "\n",
    "ax.set_xlabel(\"Frame\")\n",
    "ax.set_ylabel(\"U(x)\")\n",
    "\n",
    "plt.show()"
   ]
  },
  {
   "attachments": {},
   "cell_type": "markdown",
   "metadata": {},
   "source": [
    "### Analysing the stationary distribution\n",
    "\n",
    "The simulation should produce configurations distributed according to the Boltzmann distribution:\n",
    "\n",
    "$$p(x) = Z^{-1} e^{-\\beta U(x)}$$\n",
    "\n",
    "where Z is the partition function normalizing the density function:\n",
    "\n",
    "$$Z = \\int_{-\\infty}^{\\infty} \\text{d}x\\ e^{-\\beta U(x)}$$\n",
    "\n",
    "For our harmonic oscillator at $\\beta$=1, the probability density function might remind you of something:\n",
    "\n",
    "$$p(x) = Z^{-1} e^{-\\frac{1}{2} x^2}$$\n",
    "\n",
    "**5) Extract an estimate of the probability density along $x$ from the trajectory using 'np.histogram'. Compare the density to the reference density by calculating $Z$ and using the provided plotting code.**"
   ]
  },
  {
   "cell_type": "code",
   "execution_count": null,
   "metadata": {},
   "outputs": [],
   "source": [
    "bins = np.linspace(-2, 2, 50)\n",
    "bin_centers = ...\n",
    "\n",
    "density, bin_edges = np.histogram(...)\n",
    "\n",
    "reference_density = ...\n",
    "\n",
    "# Plotting\n",
    "fig, ax = plt.subplots(1, figsize=(4,3), dpi=180)\n",
    "\n",
    "ax.plot(bin_centers, reference_density, lw=1, c=\"0\", ls=\"dashed\")\n",
    "ax.plot(bin_centers, density, lw=1)\n",
    "\n",
    "ax.set_xlabel(\"x\")\n",
    "ax.set_ylabel(r\"p(x)\")\n",
    "\n",
    "plt.show()"
   ]
  },
  {
   "attachments": {},
   "cell_type": "markdown",
   "metadata": {},
   "source": [
    "### The simplest way towards a free energy\n",
    "\n",
    "The we can use the relation between the free energy and the probability density to obtain an estimate of the free energy along x:\n",
    "\n",
    "$$A(x) = - \\frac{1}{\\beta} \\ln [p(x)] $$\n",
    "\n",
    "This is often in literature referred to as 'Boltzmann inversion'.\n",
    "\n",
    "**6) Estimate the free energy as a function of $x$ based on the previously obtained density. Calculate the reference free energy and compare it to the estimated free energy  using the provided plotting code.**"
   ]
  },
  {
   "cell_type": "code",
   "execution_count": null,
   "metadata": {},
   "outputs": [],
   "source": [
    "bins = np.linspace(-2, 2, 50)\n",
    "bin_centers = ...\n",
    "\n",
    "density, bin_edges = ...\n",
    "\n",
    "free_energy = ...\n",
    "reference_free_energy = ...\n",
    "\n",
    "fig, ax = plt.subplots(1, figsize=(4,3), dpi=180)\n",
    "\n",
    "ax.plot(bin_centers, reference_free_energy, lw=1, c=\"0\", ls=\"dashed\")\n",
    "ax.plot(bin_centers, free_energy, lw=1)\n",
    "\n",
    "ax.set_xlabel(\"x\")\n",
    "ax.set_ylabel(r\"A(x)\")\n",
    "\n",
    "plt.show()"
   ]
  },
  {
   "attachments": {},
   "cell_type": "markdown",
   "metadata": {},
   "source": [
    "### Optional:\n",
    "\n",
    "1. Change the potential energy function to something more interesing than a harmonics oscillator. Suggestions could be:\n",
    "$$a * x^4 - x^2$$\n",
    "$$\\sin(a*x) + x^2$$\n",
    "where a is a constant parameter. What do you see in these systems? Try you own potential forms!\n",
    "\n",
    "2. In the following tutorials we use 2D systems, try to extend your code with minimal additions for e.g. a 2D harmonic oscillator."
   ]
  }
 ],
 "metadata": {
  "kernelspec": {
   "display_name": "pytorch",
   "language": "python",
   "name": "python3"
  },
  "language_info": {
   "codemirror_mode": {
    "name": "ipython",
    "version": 3
   },
   "file_extension": ".py",
   "mimetype": "text/x-python",
   "name": "python",
   "nbconvert_exporter": "python",
   "pygments_lexer": "ipython3",
   "version": "3.10.6"
  },
  "orig_nbformat": 4,
  "vscode": {
   "interpreter": {
    "hash": "20b456e16073831ec6c10d35936184755d214b6bff30c3de630d0c0a0c56da53"
   }
  }
 },
 "nbformat": 4,
 "nbformat_minor": 2
}
