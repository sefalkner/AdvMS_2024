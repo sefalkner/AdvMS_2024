{
 "cells": [
  {
   "cell_type": "code",
   "execution_count": null,
   "metadata": {},
   "outputs": [],
   "source": [
    "import numpy as np\n",
    "from numba import jit\n",
    "\n",
    "import matplotlib.pyplot as plt\n",
    "from functools import partial\n",
    "\n",
    "import sys\n",
    "sys.path.append('../miniMD')\n",
    "from miniMD import *"
   ]
  },
  {
   "attachments": {},
   "cell_type": "markdown",
   "metadata": {},
   "source": [
    "# Rare Events and Transition State Theory"
   ]
  },
  {
   "attachments": {},
   "cell_type": "markdown",
   "metadata": {},
   "source": [
    "## Rare but Important Events\n",
    "\n",
    "The goal of this exercise is a first approach to rate calculation for rare events. Rare events are processes that happen rarely, but when they happen their dynamics is fast, in comparison to the molecular motion. This is a challenge for the numerical simulations, as a high resolution is needed for resolving the event but most of the computational time is spent in simulating non-interesting portion of the configuration/phase space.\n",
    "\n",
    "In this notebook we discuss two approaches: \n",
    "\n",
    "We first aim to calculate the correlation function $c_{AB}(t)$ from which we can estimate the rate based on data from a long MD simulation. For higher barriers and more complex systems this is usually not feasible and one would perform transition path sampling to obtain $c_{AB}(t)$ (we'll have a look at that in the next exercise).\n",
    "\n",
    "We then proceed to estimate the rate using an approximation based on transition state theory. Here we estimate the rate based on the volume of a state, the probability to be at the barrier top and the velocities at the barrier top."
   ]
  },
  {
   "attachments": {},
   "cell_type": "markdown",
   "metadata": {},
   "source": [
    "As in previous cases we focus on a test system, the symmetric double well potential in 2D that we now are familiar with. We define functions to compute potential energy and forces:"
   ]
  },
  {
   "cell_type": "code",
   "execution_count": null,
   "metadata": {},
   "outputs": [],
   "source": [
    "\n",
    "@jit(nopython=True) \n",
    "def custom_potential_energy(current_x : np.ndarray) -> float:\n",
    "    \"\"\"\n",
    "    Calculates the potential energy given a configuration current_x. \n",
    "    \n",
    "    Parameters\n",
    "    ----------\n",
    "    current_x : np.ndarray\n",
    "        Current configuration to be propagated. The shape of the array(current_x.shape) can vary depending on the system which is simulated.\n",
    "\n",
    "    Returns\n",
    "    -------\n",
    "    U : float\n",
    "        Potential energy of the configuration\n",
    "\n",
    "    \"\"\"\n",
    "    return 10 * ((current_x[0]**2 - 1)**2 + (current_x[0] - current_x[1])**2)\n",
    "\n",
    "\n",
    "@jit(nopython=True) \n",
    "def custom_force_function(current_x : np.ndarray) -> np.ndarray:\n",
    "    \"\"\"\n",
    "    Calculates the force given a configuration current_x. \n",
    "\n",
    "    Parameters\n",
    "    ----------\n",
    "    current_x : np.ndarray\n",
    "        Current configuration to be propagated. The shape of the array(current_x.shape) can vary depending on the system which is simulated.\n",
    "\n",
    "    Returns\n",
    "    -------\n",
    "    force : np.ndarray\n",
    "        Force corresponding the provided configuration.\n",
    "\n",
    "    \"\"\"\n",
    "    force = np.zeros(2)\n",
    "    \n",
    "    force[0] = -2 * 10 * (2 * current_x[0]**3 -current_x[0] - current_x[1])\n",
    "    force[1] = 2 * 10 * (current_x[0] - current_x[1])\n",
    "\n",
    "    return force\n"
   ]
  },
  {
   "attachments": {},
   "cell_type": "markdown",
   "metadata": {},
   "source": [
    "A plot of the potential energy surface for this particular model is shown below."
   ]
  },
  {
   "cell_type": "code",
   "execution_count": null,
   "metadata": {},
   "outputs": [],
   "source": [
    "x_values = np.linspace(-2.6, 2.6, 200)\n",
    "y_values = np.linspace(-2.6, 2.6, 200)\n",
    "\n",
    "x_grid, y_grid = np.meshgrid(x_values, y_values)\n",
    "energies = np.zeros((len(x_values), len(y_values)))\n",
    "\n",
    "for i in range(len(x_values)):\n",
    "    for j in range(len(y_values)):\n",
    "\n",
    "        energies[i,j] = custom_potential_energy(np.array([x_grid[i, j], y_grid[i, j]]))\n"
   ]
  },
  {
   "cell_type": "code",
   "execution_count": null,
   "metadata": {},
   "outputs": [],
   "source": [
    "fig, ax = plt.subplots(1, figsize=(4,4), dpi=180)\n",
    "\n",
    "ax.contourf(x_grid, y_grid, energies, levels=np.linspace(0, 20, 10), cmap=\"RdBu_r\")\n",
    "\n",
    "ax.set_xlabel(r\"$x_0$\")\n",
    "ax.set_ylabel(r\"$x_1$\")\n",
    "\n",
    "plt.show()"
   ]
  },
  {
   "attachments": {},
   "cell_type": "markdown",
   "metadata": {},
   "source": [
    "We can now perform a molecular dynamics simulation for this system through the usual code snippets for overdamped Langevin Molecular Dynamics. We raise the temperature a bit to see more transitions, but feel free to play with this parameter:"
   ]
  },
  {
   "cell_type": "code",
   "execution_count": null,
   "metadata": {},
   "outputs": [],
   "source": [
    "total_steps = 2000000\n",
    "equilibration_steps = 1000\n",
    "output_frequency = 1\n",
    "\n",
    "beta = 0.5\n",
    "timestep = 0.001 # 1 fs = 0.001 ps\n",
    "diffusion_coefficient = 1\n",
    "\n",
    "initial_x =- np.ones(2)\n",
    "\n",
    "assert equilibration_steps < total_steps, \"Make sure you don't equilibrate longer than you simulate.\"\n",
    "assert output_frequency < total_steps, \"Make sure you don't output less often than you simulate.\"\n",
    "assert output_frequency > 0, \"The output frequency needs to be larger than 0\"\n"
   ]
  },
  {
   "cell_type": "code",
   "execution_count": null,
   "metadata": {},
   "outputs": [],
   "source": [
    "previous_x = initial_x.copy()\n",
    "\n",
    "total_frames = int(np.ceil((total_steps - equilibration_steps) / output_frequency))\n",
    "trajectory = np.zeros((total_frames , 2))\n",
    "\n",
    "for step in range(total_steps):\n",
    "\n",
    "    current_force = custom_force_function(previous_x)\n",
    "    \n",
    "    previous_x = update_positions(previous_x, current_force, beta, timestep, diffusion_coefficient)\n",
    "\n",
    "    if step >= equilibration_steps and step % output_frequency == 0:\n",
    "        index = (step - equilibration_steps) // output_frequency\n",
    "        trajectory[index] = previous_x"
   ]
  },
  {
   "attachments": {},
   "cell_type": "markdown",
   "metadata": {},
   "source": [
    "As already the case in other exercises, we would like to study the behaviour of the system along a collective variable $\\xi(x)$, where by $x = (x_0, x_1)$ we indicate a configuration of the system in two dimensions. For this exercise we choose the collective variable $\\xi(x) = x_0 + x_1$."
   ]
  },
  {
   "cell_type": "code",
   "execution_count": null,
   "metadata": {},
   "outputs": [],
   "source": [
    "@jit(nopython=True) \n",
    "def custom_cv(current_x : np.ndarray) -> float:\n",
    "    \"\"\"\n",
    "    Calculates the collective variable zeta given a configuration current_x.\n",
    "\n",
    "    Parameters\n",
    "    ----------\n",
    "    current_x : np.ndarray\n",
    "        Current configuration. The shape of the array(current_x.shape) can vary depending on the system which is simulated.\n",
    "\n",
    "    Returns\n",
    "    -------\n",
    "    zeta : float\n",
    "        CV corresponding the provided configuration.\n",
    "    \"\"\"\n",
    "\n",
    "    return current_x[..., 0] + current_x[..., 1]"
   ]
  },
  {
   "attachments": {},
   "cell_type": "markdown",
   "metadata": {},
   "source": [
    "Once a function for the collective variable is implemented let us project the trajectory computed via standard MD on the designated CV. From this, we extract the free energy by computing the probability along the CV and then by Boltzmann inversion."
   ]
  },
  {
   "cell_type": "code",
   "execution_count": null,
   "metadata": {},
   "outputs": [],
   "source": [
    "trajectory_cv = custom_cv(trajectory)\n",
    "\n",
    "hist, bins = np.histogram(trajectory_cv, bins=100, density=True)\n",
    "bin_centers = (bins[1:] + bins[:-1]) / 2\n",
    "\n",
    "free_energy = -1/beta*np.log(hist)\n",
    "free_energy -= np.min(free_energy)"
   ]
  },
  {
   "attachments": {},
   "cell_type": "markdown",
   "metadata": {},
   "source": [
    "In order to compute rates and to confront them with real data from experiments, it is important to obtain values that are in physical units. For this reason, let us define the simulation time in some submultiple of seconds. Recall that the timestep used by default in these exercises is given in picoseconds: $\\delta t = 0.001 \\text{ps} = 1 \\text{fs}$"
   ]
  },
  {
   "cell_type": "code",
   "execution_count": null,
   "metadata": {},
   "outputs": [],
   "source": [
    "simulation_time = np.arange(total_frames) * timestep * output_frequency"
   ]
  },
  {
   "attachments": {},
   "cell_type": "markdown",
   "metadata": {},
   "source": [
    "In the following plotting script we show the trajectory, the probability density and the free energy along the collective variable $\\xi$."
   ]
  },
  {
   "cell_type": "code",
   "execution_count": null,
   "metadata": {},
   "outputs": [],
   "source": [
    "# Plotting\n",
    "fig, ax = plt.subplots(1, 3, figsize=(10,4), dpi=180, gridspec_kw={'width_ratios': [2, 1, 1]}, sharey=True)\n",
    "\n",
    "ax[0].plot(simulation_time, trajectory_cv, lw=1)\n",
    "ax[0].hlines(y=-2, xmin=0, xmax=simulation_time[-1], ls=\"--\", color=\"k\", alpha=0.25)\n",
    "ax[0].hlines(y=2, xmin=0, xmax=simulation_time[-1], ls=\"--\", color=\"k\", alpha=0.25)\n",
    "ax[0].hlines(y=0, xmin=0, xmax=simulation_time[-1], ls=\":\", color=\"k\", alpha=0.25)\n",
    "ax[0].set_ylabel(r\"$\\xi$\")\n",
    "ax[0].set_xlabel(\"Time [ps]\")\n",
    "ylim = ax[0].get_ylim()\n",
    "\n",
    "ax[1].plot(hist, bin_centers)\n",
    "ax[1].hlines(y=-2, xmin=0, xmax=np.max(hist), ls=\"--\", color=\"k\", alpha=0.25)\n",
    "ax[1].hlines(y=2, xmin=0, xmax=np.max(hist), ls=\"--\", color=\"k\", alpha=0.25)\n",
    "ax[1].hlines(y=0, xmin=0, xmax=np.max(hist), ls=\":\", color=\"k\", alpha=0.25)\n",
    "ax[1].set_xlabel(r\"$P(\\xi)$\")\n",
    "\n",
    "ax[2].plot(free_energy, bin_centers)\n",
    "ax[2].hlines(y=-2, xmin=0, xmax=np.max(free_energy), ls=\"--\", color=\"k\", alpha=0.25)\n",
    "ax[2].hlines(y=2, xmin=0, xmax=np.max(free_energy), ls=\"--\", color=\"k\", alpha=0.25)\n",
    "ax[2].hlines(y=0, xmin=0, xmax=np.max(free_energy), ls=\":\", color=\"k\", alpha=0.25)\n",
    "ax[2].set_xlabel(r\"$F(\\xi) = -kT \\log P(\\xi)$\")\n",
    "\n",
    "plt.twinx()\n",
    "plt.ylim(ylim)\n",
    "plt.yticks([-2, 0, 2], [r\"$\\xi_A$\", r\"$\\xi^*$\", r\"$\\xi_B$\"])\n",
    "\n",
    "plt.show()"
   ]
  },
  {
   "attachments": {},
   "cell_type": "markdown",
   "metadata": {},
   "source": [
    "From this analysis we see how the free energy landscape presents two minima corresponding to $\\xi_A = -2$ and $\\xi_B = 2$ (highlighted by the dashed lines in the plots) and a barrier between them corresponding to $\\xi^*=0$ (highlighted by the dotted line in the plots). We can use these coordinates to define some stable states via a boolean function that takes as input the current configuration `current_x` a `callable` object `cv_function` to represent the particular CV used and the bounds (a tuple of `floats`) in the CV space that limit the states.\n",
    "\n",
    "**1) Complete the custom_bounded_state function based on the template given below.**"
   ]
  },
  {
   "cell_type": "code",
   "execution_count": null,
   "metadata": {},
   "outputs": [],
   "source": [
    "@jit(nopython=True) \n",
    "def custom_bounded_state(current_x : np.ndarray, cv_function : callable, bounds : tuple = (-np.inf, np.inf)  ) -> bool:\n",
    "    \"\"\"\n",
    "    Returns a bool or bool array which is true if current_x is within in the bounds.\n",
    "\n",
    "    Parameters\n",
    "    ----------\n",
    "    current_x : np.ndarray\n",
    "        Current configuration. The shape of the array(current_x.shape) can vary depending on the system which is simulated.\n",
    "\n",
    "    cv_function : callable\n",
    "        Function that accepts the current configuration and maps it onto the collective variable.\n",
    "        \n",
    "    bounds : (float, float)\n",
    "        The lower and upper bounds for x to be considered within the stable state\n",
    "\n",
    "\n",
    "    Returns\n",
    "    -------\n",
    "    inState : bool\n",
    "        True for each x in current_x if x is within the bounds\n",
    "    \"\"\"\n",
    "\n",
    "    cv_values = cv_function(current_x)\n",
    "    \n",
    "    inState = (cv_values > bounds[0]) & (cv_values < bounds[1])\n",
    "    \n",
    "    return inState"
   ]
  },
  {
   "attachments": {},
   "cell_type": "markdown",
   "metadata": {},
   "source": [
    "We can then use once again the `partial` constructor from `functools` to obtain a `state_A_indicator` and a `state_B_indicator` that only take only the `current_x` and return `True` if `current_x` is in state A (B) and `False` otherwise. These are the functions that are commonly indicate by $h_A(x)$ and $h_B(x)$."
   ]
  },
  {
   "cell_type": "code",
   "execution_count": null,
   "metadata": {},
   "outputs": [],
   "source": [
    "state_A_indicator = partial(custom_bounded_state, cv_function=custom_cv, bounds=(-np.inf, 0))\n",
    "state_B_indicator = partial(custom_bounded_state, cv_function=custom_cv, bounds=(0, np.inf))"
   ]
  },
  {
   "attachments": {},
   "cell_type": "markdown",
   "metadata": {},
   "source": [
    "With the following plotting script we can visualize the stable states over the potential energy surface represented by our model."
   ]
  },
  {
   "cell_type": "code",
   "execution_count": null,
   "metadata": {},
   "outputs": [],
   "source": [
    "x_values = np.linspace(-2.6, 2.6, 200)\n",
    "y_values = np.linspace(-2.6, 2.6, 200)\n",
    "\n",
    "x_grid, y_grid = np.meshgrid(x_values, y_values)\n",
    "in_state_A = np.zeros((len(x_values), len(y_values)))\n",
    "in_state_B = np.zeros((len(x_values), len(y_values)))\n",
    "\n",
    "for i in range(len(x_values)):\n",
    "    for j in range(len(y_values)):\n",
    "\n",
    "        in_state_A[i,j] = state_A_indicator(np.array([x_grid[i, j], y_grid[i, j]]))\n",
    "        in_state_B[i,j] = state_B_indicator(np.array([x_grid[i, j], y_grid[i, j]]))"
   ]
  },
  {
   "cell_type": "code",
   "execution_count": null,
   "metadata": {},
   "outputs": [],
   "source": [
    "fig, ax = plt.subplots(1, figsize=(4,4), dpi=180)\n",
    "\n",
    "ax.contourf(x_grid, y_grid, energies, levels=np.linspace(0, 20, 10), cmap=\"RdBu_r\")\n",
    "ax.contourf(x_grid, y_grid, in_state_A, cmap=\"Blues\", alpha=0.1)\n",
    "ax.contourf(x_grid, y_grid, in_state_B, cmap=\"Oranges\", alpha=0.1)\n",
    "\n",
    "ax.text(0.625, 0.1, \"State A\", transform=ax.transAxes, c=\"C0\")\n",
    "ax.text(0.125, 0.9, \"State B\", transform=ax.transAxes, c=\"C1\")\n",
    "\n",
    "ax.set_xlabel(\"x\")\n",
    "ax.set_ylabel(\"y\")\n",
    "\n",
    "plt.show()"
   ]
  },
  {
   "attachments": {},
   "cell_type": "markdown",
   "metadata": {},
   "source": [
    "Using the state indicator functions it is also possible to visualize how the system jumps from one state to the other."
   ]
  },
  {
   "cell_type": "code",
   "execution_count": null,
   "metadata": {},
   "outputs": [],
   "source": [
    "state_A_trajectory = state_A_indicator(trajectory)\n",
    "state_B_trajectory = state_B_indicator(trajectory)"
   ]
  },
  {
   "attachments": {},
   "cell_type": "markdown",
   "metadata": {},
   "source": [
    "If we plot the value of $h_A(x)$ along the trajectory we can clearly see when the system is in $A$ and when it is in $B$. Note that there is no no-man's land in our definition of state and this means that $h_A(x) + h_B(x) = 1 \\ \\forall x$. In other words the system is either in $A$ or in $B$. This can be seen in the second plot of the following cell where the values of $h_A(x)$ and $h_B(x)$ are shown for the first $100 \\text{ps}$ of simulation. In the plot on the left the value of $h_A(x)$ is shown for the entire simulation."
   ]
  },
  {
   "cell_type": "code",
   "execution_count": null,
   "metadata": {},
   "outputs": [],
   "source": [
    "# Plotting\n",
    "fig, ax = plt.subplots(1, 2, figsize=(10,4), dpi=180, sharey=True)\n",
    "\n",
    "ax[0].plot(simulation_time, state_A_trajectory, lw=1)\n",
    "ax[0].set_ylabel(r\"$h_A(x)$\")\n",
    "ax[0].set_xlabel(\"Time [ps]\")\n",
    "\n",
    "ax[1].plot(simulation_time, state_A_trajectory, lw=1, ls=\":\")\n",
    "ax[1].plot(simulation_time, state_B_trajectory, lw=1, ls=\":\")\n",
    "ax[1].set_xlim(0,100)\n",
    "ax[1].set_xlabel(\"Time [ps]\")\n",
    "\n",
    "plt.show()"
   ]
  },
  {
   "attachments": {},
   "cell_type": "markdown",
   "metadata": {},
   "source": [
    "We can now use the theory developed during the course to find the rate of the process. We know from the microscopic theory that there should be a regime $\\tau_{mol} < t < \\tau_{rxn}$ ($\\tau_{mol}$ being the molecular timescale, $\\tau_{rxn}$ being the reaction time) where the correlation function\n",
    "$$\n",
    "C_{AB}(t) = \\frac{\\langle h_A(0)h_B(t)\\rangle}{\\langle h_A \\rangle}\n",
    "$$\n",
    "increases linearly with time with slope $k_{AB}$. In other words\n",
    "$$\n",
    "k(t) = \\frac{d}{dt}C_{AB}(t)\\approx k_{AB} \\quad \\text{for} \\quad \\tau_{mol} < t < \\tau_{rxn}\n",
    "$$\n",
    "In the next cell we want to compute the correlation function and find the linear regime to compute $k_{AB}$.\n",
    "\n",
    "**2) Estimate $C_{AB}(t)$ from the simulation data.** \n",
    "\n",
    "TIP: Initialize an array h_AB of size max_frame_lag. For every point on the trajectory, first check if we are in state A. If we are, for each point up until max_frame_lag from the current point see if we are in state B. If we are, add 1 to the respecting position of h_AB. Later you need to divide h_AB by the number of total points to obtain the average h_AB. "
   ]
  },
  {
   "cell_type": "code",
   "execution_count": null,
   "metadata": {},
   "outputs": [],
   "source": [
    "max_frame_lag = 300\n",
    "\n",
    "time = np.arange(max_frame_lag) * timestep * output_frequency\n",
    "h_AB = np.zeros(max_frame_lag)\n",
    "\n",
    "\n",
    "for frame_index in range(trajectory.shape[0] - h_AB.shape[0]):\n",
    "\n",
    "    ...\n",
    "\n",
    "average_h_AB = ...\n",
    "avg_h_A = ...\n",
    "\n",
    "c_AB = average_h_AB / avg_h_A"
   ]
  },
  {
   "attachments": {},
   "cell_type": "markdown",
   "metadata": {},
   "source": [
    "Below we plot the correlation function and its derivative.\n",
    "\n",
    "**3) Tune the horizontal line to find your plateau value indicating the rate.**"
   ]
  },
  {
   "cell_type": "code",
   "execution_count": null,
   "metadata": {},
   "outputs": [],
   "source": [
    "fig, ax = plt.subplots(1, figsize=(5,4), dpi=180)\n",
    "\n",
    "plt.plot(time, c_AB)\n",
    "plt.ylabel(r\"$c_{AB}(t)$\")\n",
    "plt.xlabel(\"Time [ps]\")\n",
    "\n",
    "plt.twinx()\n",
    "plt.plot(time[1:-1], (c_AB[2:] - c_AB[:-2]) / (time[2:] - time[:-2]), c=\"C1\")\n",
    "\n",
    "# Tune here\n",
    "plt.axhline(... , color=\"k\", ls=\"dashed\", alpha=0.25)\n",
    "\n",
    "plt.ylabel(r\"d/dt $c_{AB}$ [1/ps]\")\n",
    "\n",
    "plt.show()"
   ]
  },
  {
   "attachments": {},
   "cell_type": "markdown",
   "metadata": {},
   "source": [
    "## Transition State Theory"
   ]
  },
  {
   "attachments": {},
   "cell_type": "markdown",
   "metadata": {},
   "source": [
    "A different route to get an estimate (an upper bound, in fact) of the transition rate $k_AB$ is to use transition state theory, which estimates the rate of transition as\n",
    "$$\n",
    "k_{TST} = \\frac{1}{2}\\left\\langle|\\dot{\\xi}| \\right\\rangle_{\\xi=\\xi^*}\\frac{\\exp[-\\beta F_{\\xi}(\\xi^*)]}{\\int_{-\\infty}^{\\xi^*}\\text{d}\\xi'\\exp[-\\beta F_{\\xi}(\\xi')]}\n",
    "$$\n",
    "This approach is very interesting as it only involves static calculation and no dynamical trajectories are needed. On the other hand, the term\n",
    "$$\n",
    "\\left\\langle|\\dot{\\xi}| \\right\\rangle_{\\xi=\\xi^*}\n",
    "$$\n",
    "implicitly assumes that every trajectory that flies out from the dividing surface that identifies the free energy barrier reaches a stable state without recrossing. This produces an overestimation of the transition rate, i.e. we have that $k_{TST} \\geq k_{AB}$.\n",
    "\n",
    "The free energy necessary to compute the numerator and the denominator can be obtained from standard techniques, i.e. simple Boltzmann inversion when the system allows it, or more advanced techniques, like umbrella sampling or metadynamics.\n",
    "\n",
    "Lets first remind ourselves of the free energy we obtained along $\\xi$ in the above simulation:"
   ]
  },
  {
   "cell_type": "code",
   "execution_count": null,
   "metadata": {},
   "outputs": [],
   "source": [
    "fig, ax = plt.subplots(1, figsize=(4,3), dpi=180)\n",
    "\n",
    "ax.plot(bin_centers, free_energy)\n",
    "ax.vlines(x=0, ymin=0, ymax=np.max(free_energy), ls=\"--\", color=\"k\", alpha=0.25)\n",
    "\n",
    "ax.set_xlabel(r\"$\\xi'$\")\n",
    "ax.set_ylabel(r\"$F_{\\xi}(\\xi')$\")\n",
    "\n",
    "plt.show()"
   ]
  },
  {
   "attachments": {},
   "cell_type": "markdown",
   "metadata": {},
   "source": [
    "**4) For obtaining the numerator and denominator, extract the Boltzmann factor at the barrier top and integrate the free energy to obtain the \"volume\" of state A.** TIP: Be careful with NaNs in the free energy, you can discard these points that usually occur on the edges."
   ]
  },
  {
   "cell_type": "code",
   "execution_count": null,
   "metadata": {},
   "outputs": [],
   "source": [
    "xi_star_indx = ...\n",
    "num = ..."
   ]
  },
  {
   "cell_type": "code",
   "execution_count": null,
   "metadata": {},
   "outputs": [],
   "source": [
    "free_energy_cut = free_energy[: ... ] # Lets cut away everything belonging to state B\n",
    "denom = ..."
   ]
  },
  {
   "attachments": {},
   "cell_type": "markdown",
   "metadata": {},
   "source": [
    "The last term missing, i.e.\n",
    "$$\n",
    "\\left\\langle|\\dot{\\xi}| \\right\\rangle_{\\xi=\\xi^*}\n",
    "$$\n",
    "can be obtained running a bunch of very short trajectories all starting from the barrier top, i.e. $\\xi^* = 0$. The time derivative can be caluclated numerically and the average can be carried out. Note that the initial conditions for the fleeting trajectories need to be distributed physically, i.e. according to the Boltzmann distribution. To do this, a small Monte Carlo simulation can be implemented to obtained Boltzmann distributed configurations along the line $\\xi^* = 0$.\n"
   ]
  },
  {
   "cell_type": "code",
   "execution_count": null,
   "metadata": {},
   "outputs": [],
   "source": [
    "total_steps = 2 # two steps are enough to compute velocities\n",
    "equilibration_steps = 0 # no equilibration is needed if initial conditions are Boltzmann distributed\n",
    "output_frequency = 1\n",
    "n_fleeting_trajs = 1000\n",
    "\n",
    "beta = 0.3\n",
    "timestep = 0.001\n",
    "diffusion_coefficient = 1\n",
    "\n",
    "initial_x = np.zeros(2)\n",
    "\n",
    "assert equilibration_steps < total_steps, \"Make sure you don't equilibrate longer than you simulate.\"\n",
    "assert output_frequency < total_steps, \"Make sure you don't output less often than you simulate.\"\n",
    "assert output_frequency > 0, \"The output frequency needs to be larger than 0\"\n"
   ]
  },
  {
   "attachments": {},
   "cell_type": "markdown",
   "metadata": {},
   "source": [
    "**5) Complete the code below to start many short trajectories from the dividing surface.** While we provide a code to obtain a new point, your part is to implement the MD code and the calculation of the absolute velocity on xi."
   ]
  },
  {
   "cell_type": "code",
   "execution_count": null,
   "metadata": {},
   "outputs": [],
   "source": [
    "total_frames = int(np.ceil((total_steps - equilibration_steps) / output_frequency))\n",
    "\n",
    "fleeting_trajectory = np.zeros((n_fleeting_trajs, total_frames+1, 2)) # Should contain the trajectories\n",
    "abs_dot_xi = np.zeros((n_fleeting_trajs, total_frames-1)) # Should contain the velocities on xi\n",
    "\n",
    "frame_step = timestep*output_frequency\n",
    "\n",
    "acc = 0\n",
    "\n",
    "for traj in range(n_fleeting_trajs):\n",
    "\n",
    "    previous_x = initial_x.copy()\n",
    "\n",
    "    fleeting_trajectory[traj][0] = previous_x\n",
    "    \n",
    "    for step in range(total_steps):\n",
    "\n",
    "        current_force = custom_force_function(previous_x)\n",
    "        \n",
    "        previous_x = update_positions(previous_x, current_force, beta, timestep, diffusion_coefficient)\n",
    "\n",
    "        if step >= equilibration_steps and step % output_frequency == 0:\n",
    "            index = (step - equilibration_steps) // output_frequency\n",
    "            fleeting_trajectory[traj][index+1] = previous_x\n",
    "    \n",
    "    \n",
    "    fleeting_trajectory_cv = ...\n",
    "    abs_dot_xi[traj] = ...\n",
    "\n",
    "\n",
    "    # We do MC here to obtain a new initial point for the next trajectory\n",
    "    x_new = initial_x[0] + 0.75*np.random.uniform(low=-1, high=1)\n",
    "    y_new = -x_new\n",
    "    proposed_x = np.array([x_new, y_new])\n",
    "    e_old = custom_potential_energy(previous_x)\n",
    "    e_new = custom_potential_energy(proposed_x)\n",
    "\n",
    "    test = np.random.uniform(low=0, high=1)\n",
    "    if test < np.exp(-beta*(e_new-e_old)):\n",
    "        initial_x = proposed_x.copy()\n",
    "        acc += 1\n",
    "\n",
    "print(f\"MC acceptance ratio: {acc/n_fleeting_trajs}\")"
   ]
  },
  {
   "cell_type": "code",
   "execution_count": null,
   "metadata": {},
   "outputs": [],
   "source": [
    "abs_dot_xi_avg = abs_dot_xi.mean()"
   ]
  },
  {
   "cell_type": "code",
   "execution_count": null,
   "metadata": {},
   "outputs": [],
   "source": [
    "fig, ax = plt.subplots(1, figsize=(5,4), dpi=180)\n",
    "\n",
    "ax.contourf(x_grid, y_grid, energies, levels=np.linspace(0, 20, 10), cmap=\"RdBu_r\")\n",
    "ax.contourf(x_grid, y_grid, in_state_A, cmap=\"Blues\", alpha=0.1)\n",
    "ax.contourf(x_grid, y_grid, in_state_B, cmap=\"Oranges\", alpha=0.1)\n",
    "\n",
    "for traj in range(n_fleeting_trajs):\n",
    "    ax.scatter(fleeting_trajectory[traj][0,0], fleeting_trajectory[traj][0,1], c=\"r\", s=2, alpha=0.1, zorder=10)\n",
    "    ax.plot(fleeting_trajectory[traj][:,0], fleeting_trajectory[traj][:,1], lw=0.2)\n",
    "\n",
    "ax.text(0.625, 0.1, \"State A\", transform=ax.transAxes, c=\"C0\")\n",
    "ax.text(0.125, 0.9, \"State B\", transform=ax.transAxes, c=\"C1\")\n",
    "\n",
    "ax.set_xlabel(\"x_0\")\n",
    "ax.set_ylabel(\"x_1\")\n",
    "\n",
    "plt.show()"
   ]
  },
  {
   "attachments": {},
   "cell_type": "markdown",
   "metadata": {},
   "source": [
    "**5) Calculate the rate using the TST approximation and compare it to the value obtained from $C_{AB}(t)$.** "
   ]
  },
  {
   "cell_type": "code",
   "execution_count": null,
   "metadata": {},
   "outputs": [],
   "source": [
    "k_AB = ..."
   ]
  },
  {
   "cell_type": "code",
   "execution_count": null,
   "metadata": {},
   "outputs": [],
   "source": [
    "print(f\"Transition Rate for A to B: {k_AB} 1/ps\")"
   ]
  }
 ],
 "metadata": {
  "kernelspec": {
   "display_name": "pytorch",
   "language": "python",
   "name": "python3"
  },
  "language_info": {
   "codemirror_mode": {
    "name": "ipython",
    "version": 3
   },
   "file_extension": ".py",
   "mimetype": "text/x-python",
   "name": "python",
   "nbconvert_exporter": "python",
   "pygments_lexer": "ipython3",
   "version": "3.10.6"
  },
  "orig_nbformat": 4,
  "vscode": {
   "interpreter": {
    "hash": "20b456e16073831ec6c10d35936184755d214b6bff30c3de630d0c0a0c56da53"
   }
  }
 },
 "nbformat": 4,
 "nbformat_minor": 2
}
