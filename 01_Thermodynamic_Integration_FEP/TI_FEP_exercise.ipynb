{
 "cells": [
  {
   "cell_type": "code",
   "execution_count": null,
   "metadata": {},
   "outputs": [],
   "source": [
    "import numpy as np\n",
    "from numba import jit\n",
    "\n",
    "import matplotlib.pyplot as plt\n",
    "\n",
    "from functools import partial"
   ]
  },
  {
   "attachments": {},
   "cell_type": "markdown",
   "metadata": {},
   "source": [
    "Instead of copy-pasting every routine in miniMD, the cell below contains a quick hack to import miniMD modules directly from the folder "
   ]
  },
  {
   "cell_type": "code",
   "execution_count": null,
   "metadata": {},
   "outputs": [],
   "source": [
    "import sys\n",
    "sys.path.append('../miniMD')\n",
    "from miniMD import *"
   ]
  },
  {
   "attachments": {},
   "cell_type": "markdown",
   "metadata": {},
   "source": [
    "# Free Energy Differences"
   ]
  },
  {
   "attachments": {},
   "cell_type": "markdown",
   "metadata": {},
   "source": [
    "### Definition of Source and Target Systems\n",
    "\n",
    "First of all we define a \"source\" and a \"target\" system, setting energy and force functions for both of them. These represent the two \"situations\" between which we want to calculate the free energy difference. In many cases we use as a source system the ideal gas $U_{id} = 0$ and as target the system we are interested in.\n",
    "\n",
    "In this case we use as source a 2d-harmonic oscillator (we have seen the 1d case in the previous exercise) and as target a 2d double-well.\n",
    "Given the current configuration $x = (x_0,x_1)$, the two systems have potential energies:\n",
    "$$\n",
    "U_{HO} = \\frac{1}{2} k (x - r)^2\n",
    "$$\n",
    "$$\n",
    "U_{DW} = B\\bigl[(x_0^2 - 1)^2 + (x_0 - x_1)^2\\bigr]\n",
    "$$\n",
    "where $k$, $r$ are the force constant and rest position of the harmonic oscillator (HO), respectively and $B$ is a scaling factor for the double well model (DW)."
   ]
  },
  {
   "cell_type": "code",
   "execution_count": null,
   "metadata": {},
   "outputs": [],
   "source": [
    "@jit(nopython=True) \n",
    "def energy_function_source(current_x : np.ndarray) -> float:\n",
    "    \"\"\"\n",
    "    Calculates the potential energy of the source system given a \n",
    "    configuration current_x. The example here is for a 2d \n",
    "    harmonic oscillator with a force constant of 10 and rest \n",
    "    position of (0, 0).\n",
    "\n",
    "    Parameters\n",
    "    ----------\n",
    "    current_x : np.ndarray\n",
    "        Current 2d configuration.\n",
    "\n",
    "    Returns\n",
    "    -------\n",
    "    U : float\n",
    "        Potential energy of the given configuration\n",
    "\n",
    "    \"\"\"\n",
    "\n",
    "    rest_position = np.zeros(2)\n",
    "    force_constant = 10\n",
    "\n",
    "    return 1/2 * force_constant * ((current_x[0] - rest_position[0])**2 + (current_x[1] - rest_position[1])**2)\n",
    "\n",
    "@jit(nopython=True) \n",
    "def force_function_source(current_x : np.ndarray) -> np.ndarray:\n",
    "    \"\"\"\n",
    "    Calculates the force of the source system given a \n",
    "    configuration current_x. The example here is for a \n",
    "    2d harmonic oscillator with a force constant of 10 and rest \n",
    "    position of (0, 0).\n",
    "\n",
    "    Remember: The force is the negative gradient of the potential energy with \n",
    "    respect to the current configuration. Therefore, it must be of the same \n",
    "    dimensionality as the configuration.\n",
    "\n",
    "    Parameters\n",
    "    ----------\n",
    "    current_x : np.ndarray\n",
    "        Current configuration.\n",
    "\n",
    "    Returns\n",
    "    -------\n",
    "    force : np.ndarray\n",
    "        Force corresponding the given configuration.\n",
    "\n",
    "    \"\"\"\n",
    "\n",
    "    rest_position = np.zeros(2)\n",
    "    force_constant = 10\n",
    "\n",
    "    force = np.zeros(2)\n",
    "\n",
    "    force[0] = -force_constant * (current_x[0] - rest_position[0])\n",
    "    force[1] = -force_constant * (current_x[1]- rest_position[1])\n",
    "\n",
    "    return force\n",
    "\n",
    "\n",
    "@jit(nopython=True) \n",
    "def energy_function_target(current_x : np.ndarray) -> float:\n",
    "    \"\"\"\n",
    "    Calculates the potential energy of the target system given a \n",
    "    configuration current_x. The example here is for a 2d \n",
    "    double well with a scaling constant of 3.\n",
    "\n",
    "    Parameters\n",
    "    ----------\n",
    "    current_x : np.ndarray\n",
    "        Current 2d configuration.\n",
    "\n",
    "    Returns\n",
    "    -------\n",
    "    U : float\n",
    "        Potential energy of the given configuration\n",
    "\n",
    "    \"\"\"\n",
    "    \n",
    "    B = 3\n",
    "\n",
    "    return B * ((current_x[0]**2 - 1)**2 + (current_x[0] - current_x[1])**2)\n",
    "\n",
    "@jit(nopython=True) \n",
    "def force_function_target(current_x : np.ndarray) -> np.ndarray:\n",
    "    \"\"\"\n",
    "    Calculates the force of the target system given a \n",
    "    configuration current_x. The example here is for a \n",
    "    2d double well with scaling constant of 3.\n",
    "\n",
    "    Parameters\n",
    "    ----------\n",
    "    current_x : np.ndarray\n",
    "        Current configuration.\n",
    "\n",
    "    Returns\n",
    "    -------\n",
    "    force : np.ndarray\n",
    "        Force corresponding the given configuration.\n",
    "\n",
    "    \"\"\"\n",
    "    B = 3\n",
    "\n",
    "    force = np.zeros(2)\n",
    "    \n",
    "    force[0] = -2 * B * (2 * current_x[0]**3 -current_x[0] - current_x[1])\n",
    "    force[1] =  2 * B * (current_x[0] - current_x[1])\n",
    "\n",
    "    return force"
   ]
  },
  {
   "attachments": {},
   "cell_type": "markdown",
   "metadata": {},
   "source": [
    "A plot of the source and target energy landscapes is shown below"
   ]
  },
  {
   "cell_type": "code",
   "execution_count": null,
   "metadata": {},
   "outputs": [],
   "source": [
    "x_values = np.linspace(-3, 3, 100)\n",
    "y_values = np.linspace(-3, 3, 100)\n",
    "\n",
    "x_grid, y_grid = np.meshgrid(x_values, y_values)\n",
    "source_energy = np.zeros((len(x_values), len(y_values)))\n",
    "target_energy = np.zeros((len(x_values), len(y_values)))\n",
    "\n",
    "fig, ax = plt.subplots(1, 2, figsize=(10,4), dpi=180)\n",
    "\n",
    "for i in range(len(x_values)):\n",
    "    for j in range(len(y_values)):\n",
    "\n",
    "        source_energy[i,j] = energy_function_source(np.array([x_grid[i, j], y_grid[i, j]]))\n",
    "        target_energy[i,j] = energy_function_target(np.array([x_grid[i, j], y_grid[i, j]]))\n",
    "\n",
    "ax[0].set_xlabel(r\"$x_0$\")\n",
    "ax[0].set_ylabel(r\"$x_1$\")\n",
    "ax[0].set_title(r\"Source\")\n",
    "image = ax[0].contourf(x_grid, y_grid, source_energy, levels=np.linspace(0, 20, 20))\n",
    "plt.colorbar(image)\n",
    "\n",
    "ax[1].set_xlabel(r\"$x_0$\")\n",
    "ax[1].set_ylabel(r\"$x_1$\")\n",
    "ax[1].set_title(r\"Target\")\n",
    "image = ax[1].contourf(x_grid, y_grid, target_energy, levels=np.linspace(0, 20, 20))\n",
    "\n",
    "plt.colorbar(image)\n",
    "plt.show()"
   ]
  },
  {
   "attachments": {},
   "cell_type": "markdown",
   "metadata": {},
   "source": [
    "## Thermodynamic Integration"
   ]
  },
  {
   "attachments": {},
   "cell_type": "markdown",
   "metadata": {},
   "source": [
    "Thermodynamic integration consists in varying the potential energy function of the system along a certain protocol and to compute free energy difference as an integrals along this protocol. This means to define a certain $U(x; \\lambda)$ where $\\lambda \\in [0,1]$ is the protocol control parameter, such that, in our case, $U(x; \\lambda=0) = U_{HO}$ and $U(x; \\lambda=1) = U_{DW}$. With the exception of the boundary conditions on $\\lambda$ he chosen protocol is arbitrary and the simplest choice is\n",
    "$$\n",
    "U(x; \\lambda) = (1-\\lambda)U_{HO} + \\lambda U_{DW}\n",
    "$$\n",
    "which clearly satisfies the required boundary conditions on $\\lambda$. The free energy difference is then computed as\n",
    "$$\n",
    "\\Delta F = \\int_0^1 \\text{d}\\lambda \\Braket{\\frac{\\text{d}U}{\\text{d}\\lambda}}_\\lambda\n",
    "$$"
   ]
  },
  {
   "attachments": {},
   "cell_type": "markdown",
   "metadata": {},
   "source": [
    "As a first step, we define a general method that accepts current configuration $x$, the current value of the protocol control parrameter $\\lambda$ and two **functions** (`callable` in python) $f$ and $g$. The method returns the **value** of \n",
    "$$\n",
    "h(x; \\lambda) = (1-\\lambda)f(x) + \\lambda g(x)\n",
    "$$\n",
    "\n",
    "Moreover, given the protocol, we also want to have a method that computes its derivative. As above, given $x$, $\\lambda$, $f$ and $g$, the method should return the **value** of \n",
    "$$\n",
    "\\frac{\\text{d}h(x)}{\\text{d}\\lambda} = g(x) - f(x)\n",
    "$$ "
   ]
  },
  {
   "cell_type": "code",
   "execution_count": null,
   "metadata": {},
   "outputs": [],
   "source": [
    "def linear_switching_protocol(current_x : np.ndarray, llambda : float, f : callable, g : callable) -> np.ndarray:\n",
    "\n",
    "    return ...\n",
    "\n",
    "def derivative_linear_switching_protocol(current_x : np.ndarray, llambda : float, f : callable, g : callable) -> np.ndarray:\n",
    "\n",
    "    return ..."
   ]
  },
  {
   "attachments": {},
   "cell_type": "markdown",
   "metadata": {},
   "source": [
    "The thermodynamic integration algorithm to compute free energy difference can then be summarized as follows:\n",
    "1. Carry out $L$ different simulations for different values of the parameter $\\lambda_i$ covering the interval $[0,1]$\n",
    "2. In each siomulation compute $\\Braket{\\frac{\\text{d}U}{\\text{d}\\lambda}}_{\\lambda_i}$\n",
    "3. Compute numerically the integral for $\\Delta F$.\n",
    "\n",
    "As a first step we choose to do every simulation equally long and to perform simulations for equally spaced values of $\\lambda$."
   ]
  },
  {
   "cell_type": "code",
   "execution_count": null,
   "metadata": {},
   "outputs": [],
   "source": [
    "l_simulations = 9\n",
    "lambdas = np.linspace(0, 1, l_simulations)\n",
    "\n",
    "equilibration_steps = 10000\n",
    "n_steps_per_simulation = 1000000\n",
    "output_frequency = 10\n",
    "\n",
    "beta = 1\n",
    "timestep = 0.001\n",
    "diffusion_coefficient = 1\n",
    "\n",
    "initial_x = np.zeros(2)\n",
    "\n",
    "assert equilibration_steps < n_steps_per_simulation, \"Make sure you don't equilibrate longer than you simulate.\"\n",
    "assert output_frequency < n_steps_per_simulation, \"Make sure you don't output less often than you simulate.\"\n",
    "assert output_frequency > 0, \"The output frequency needs to be larger than 0\"\n"
   ]
  },
  {
   "attachments": {},
   "cell_type": "markdown",
   "metadata": {},
   "source": [
    "Our usual MD cycle will be then embedded in a loop over the different $\\lambda$, in order to perform one simulation per value $\\lambda_i$.\n",
    "\n",
    "The definition of the force for each simulation can be done via the defined method for the linear switching. Indeed, it is easy to show how the same protocol used to switch between the potential energies of source and tareget systems can be used straight away for forces (convince yourself about this). Therefore, the easiest way is to apply the protocol at each step of the simulation.\n",
    "\n",
    "A more elegant way is to use the method `partial` from `functools`. This method gets as input a function and some of its input values and return a new function where the input values passed are automatically given. Here is an example:\n",
    "\n",
    "```\n",
    "[0] from functools import partial\n",
    "\n",
    "[1] def foo(x, a, b):\n",
    "\n",
    "        return a*x + b\n",
    "        \n",
    "[2] foo(x=2, a=1, b=3)\n",
    "[ ] 5\n",
    "\n",
    "[3] bar = partial(foo, a=1, b=3)\n",
    "\n",
    "[4] bar(x=2)\n",
    "[ ] 5\n",
    "\n",
    "```\n",
    "This amounts to perform point 1. of the algorithm."
   ]
  },
  {
   "attachments": {},
   "cell_type": "markdown",
   "metadata": {},
   "source": [
    "For each simulation it is important to save the computed average $\\frac{\\text{d}U}{\\text{d}\\lambda}$. To this end, again two routes are possible: The use of the protocol at each time step or the definition of a partial method for each $\\lambda$.\n",
    "\n",
    "This is point 2."
   ]
  },
  {
   "cell_type": "code",
   "execution_count": null,
   "metadata": {},
   "outputs": [],
   "source": [
    "simulation_trajectories = []\n",
    "simulation_avg_dudl = []\n",
    "\n",
    "for l in lambdas:\n",
    "\n",
    "    previous_x = initial_x.copy()\n",
    "    \n",
    "    total_frames = int(np.ceil((n_steps_per_simulation - equilibration_steps) / output_frequency))\n",
    "    trajectory = np.zeros((total_frames , 2))\n",
    "    dudl = np.zeros((total_frames))\n",
    "\n",
    "    for step in range(n_steps_per_simulation):\n",
    "\n",
    "        current_force = ...\n",
    "        \n",
    "        previous_x = update_positions(previous_x, current_force, beta, timestep, diffusion_coefficient)\n",
    "\n",
    "        if step >= equilibration_steps and step % output_frequency == 0:\n",
    "            index = (step - equilibration_steps) // output_frequency\n",
    "            trajectory[index] = previous_x\n",
    "            dudl[index] = ...\n",
    "            \n",
    "    simulation_trajectories.append(trajectory)\n",
    "    simulation_avg_dudl.append(dudl.mean())"
   ]
  },
  {
   "attachments": {},
   "cell_type": "markdown",
   "metadata": {},
   "source": [
    "Finally point 3. needs to be performed, i.e. the numerical integration of the obtained values for the mean derivatives of the energy with respect to the protocol. This can be done with any algorithm for numerical integration, but a very commonly adopted one is the trapezoidal rule, which is available in numpy via `numpy.trapz`. "
   ]
  },
  {
   "cell_type": "code",
   "execution_count": null,
   "metadata": {},
   "outputs": [],
   "source": [
    "def compute_free_energy_difference(lambdas, dudlambdas):\n",
    "    \n",
    "    return np.trapz(dudlambdas, lambdas)"
   ]
  },
  {
   "attachments": {},
   "cell_type": "markdown",
   "metadata": {},
   "source": [
    "It is now possible to obtain the free energy difference between the source and target systems.<br>\n",
    "How would you check the result?"
   ]
  },
  {
   "cell_type": "code",
   "execution_count": null,
   "metadata": {},
   "outputs": [],
   "source": [
    "delta_F_ti = compute_free_energy_difference(lambdas, np.array(simulation_avg_dudl))\n",
    "print(f\"∆F = {delta_F_ti}\")"
   ]
  },
  {
   "attachments": {},
   "cell_type": "markdown",
   "metadata": {},
   "source": [
    "Saving the trajectories obtained for each $\\lambda_i$ it is also possible to visualize the evolution of the trajectories together with the switching of the potential energy surface. An example is reported below."
   ]
  },
  {
   "cell_type": "code",
   "execution_count": null,
   "metadata": {},
   "outputs": [],
   "source": [
    "# Generating closest square grid out of l_simulations\n",
    "nr = int(l_simulations**0.5)\n",
    "nc = int(np.ceil(l_simulations/float(nr)))\n",
    "\n",
    "# Approximate grid size based on nc and nr\n",
    "fig, ax = plt.subplots(nrows=nr, ncols=nc, figsize=(6*nc,6*nr), dpi=180)\n",
    "\n",
    "# Taking care of degenerate grids\n",
    "if l_simulations == 1:\n",
    "    ax = np.array([ax])\n",
    "if nr == 1:\n",
    "    ax = ax.reshape(1, nc)\n",
    "if nc == 1:\n",
    "    ax = ax.reshape(nr, 1)\n",
    "\n",
    "# Generating grid for contour plots\n",
    "x_values = np.linspace(-3, 3, 100)\n",
    "y_values = np.linspace(-3, 3, 100)\n",
    "\n",
    "x_grid, y_grid = np.meshgrid(x_values, y_values)\n",
    "switching_energies = np.zeros((len(x_values), len(y_values)))\n",
    "\n",
    "# Looping over plot grid \n",
    "for il in range(nr):\n",
    "    for jl in range(nc):\n",
    "        \n",
    "        # Finding corresponding simulation\n",
    "        lindx = il*nc + jl\n",
    "        if lindx < l_simulations:\n",
    "            l = lambdas[lindx]\n",
    "            t = simulation_trajectories[lindx]    \n",
    "            total_energy_wrapped = partial(linear_switching_protocol, llambda=l, f=energy_function_source, g=energy_function_target)\n",
    "\n",
    "            # Generating contour plots\n",
    "            for i in range(len(x_values)):\n",
    "                for j in range(len(y_values)):\n",
    "\n",
    "                    switching_energies[i,j] = total_energy_wrapped(np.array([x_grid[i, j], y_grid[i, j]]))\n",
    "\n",
    "            ax[il][jl].set_title(r\"$\\lambda = {:.3g}$\".format(l))\n",
    "            ax[il][jl].set_xlabel(r\"$x_0$\")\n",
    "            ax[il][jl].set_ylabel(r\"$x_1$\")\n",
    "        \n",
    "            ax[il][jl].contour(x_grid, y_grid, switching_energies, levels=np.linspace(0, 20, 10))\n",
    "            ax[il][jl].plot(t[:,0], t[:,1], c=f\"C0\", lw=1)\n",
    "        else: \n",
    "            # Taking care of empty plots\n",
    "            ax[il][jl].axis(\"off\")\n",
    "\n",
    "plt.show()"
   ]
  },
  {
   "attachments": {},
   "cell_type": "markdown",
   "metadata": {},
   "source": [
    "## Free Energy Perturbation"
   ]
  },
  {
   "attachments": {},
   "cell_type": "markdown",
   "metadata": {},
   "source": [
    "Free Energy perturbation is another method for computing free energies between a state A and a state B. It has been introduced by Zwanzing in 1954. In the standard decomposition of the free-energy difference\n",
    "$$\n",
    "\\Delta F_{AB} = F_B - F_A = k_BT\\log Z_B - k_BT \\log Z_A = k_BT\\log \\frac{Z_B}{Z_A} \n",
    "$$\n",
    "the ratio between the partition functions can be expressed as\n",
    "$$\n",
    "\\frac{Z_B}{Z_A} = \\frac{\\int \\text{d}x e^{-\\beta U_B(x)}}{\\int \\text{d}x e^{-\\beta U_A(x)}} = \\frac{\\int \\text{d}x e^{-\\beta U_A(x)} e^{\\beta U_A(x)} e^{-\\beta U_B(x)}}{\\int \\text{d}x e^{-\\beta U_A(x)}} = \\frac{\\int \\text{d}x e^{-\\beta U_A(x)} e^{-\\beta \\Delta U_{AB}(x)}}{\\int \\text{d}x e^{-\\beta U_A(x)}} = \\Braket{e^{-\\beta \\Delta U_{AB}}}_A\n",
    "$$\n",
    "where $\\Delta U_{AB} = U_B-U_A$.\n",
    "\n",
    "The free energy can therefore be computed as\n",
    "$$\n",
    "\\Delta F_{AB} = k_BT\\log \\Braket{e^{-\\beta \\Delta U_{AB}}}_A\n",
    "$$\n",
    "\n",
    "From an operational point of view, this means to perform a simulation in the system subject to the interaction $U_A$ and compute the standard average of the obseervable defined by the exponential of the energy difference $\\Delta U_{AB}$."
   ]
  },
  {
   "attachments": {},
   "cell_type": "markdown",
   "metadata": {},
   "source": [
    "Even if easy at first sight, this can be challenging if the two systems are very different from each other since when the energy difference of a configuration in the two states is large, the contribution arising from the exponential is very low.\n",
    "\n",
    "To check if the system are close enough to allow for the method to work, a good way is to check the convergence of the mean of the zwanzig factor along the simulation. To this end, running averages (RA, see the function below) are a useful tool."
   ]
  },
  {
   "cell_type": "code",
   "execution_count": null,
   "metadata": {},
   "outputs": [],
   "source": [
    "def running_average(x, step, avg):\n",
    "\n",
    "    if step == 0:\n",
    "        avg = step\n",
    "    else:\n",
    "        avg = (avg*(step-1) + x)/step\n",
    "\n",
    "    return avg "
   ]
  },
  {
   "attachments": {},
   "cell_type": "markdown",
   "metadata": {},
   "source": [
    "As a first test case, let us try to switch directly from the source to the target system of the thermodynamic integration example. Also try running the simulation different times. \n",
    " - Are the result for the free energy difference compatible with the thermodynamic integration? \n",
    " - Are different replicas of the simulation giving the same result?\n",
    " - What about the convergence of the Zwanzig factor?"
   ]
  },
  {
   "cell_type": "code",
   "execution_count": null,
   "metadata": {},
   "outputs": [],
   "source": [
    "equilibration_steps = 10000\n",
    "total_steps = 10000000\n",
    "output_frequency = 10\n",
    "\n",
    "beta = 1\n",
    "timestep = 0.001\n",
    "diffusion_coefficient = 1\n",
    "\n",
    "initial_x = np.zeros(2)\n",
    "\n",
    "assert equilibration_steps < n_steps_per_simulation, \"Make sure you don't equilibrate longer than you simulate.\"\n",
    "assert output_frequency < n_steps_per_simulation, \"Make sure you don't output less often than you simulate.\"\n",
    "assert output_frequency > 0, \"The output frequency needs to be larger than 0\""
   ]
  },
  {
   "cell_type": "code",
   "execution_count": null,
   "metadata": {},
   "outputs": [],
   "source": [
    "previous_x = initial_x.copy()\n",
    "\n",
    "total_frames = int(np.ceil((total_steps - equilibration_steps) / output_frequency))\n",
    "trajectory = np.zeros((total_frames, 2))\n",
    "zwanzig_factor_avg = np.zeros((total_frames+1))\n",
    "\n",
    "for step in range(total_steps):\n",
    "\n",
    "    current_force = ...\n",
    "    \n",
    "    previous_x = update_positions(previous_x, current_force, beta, timestep, diffusion_coefficient)\n",
    "\n",
    "    if step >= equilibration_steps and step % output_frequency == 0:\n",
    "        index = (step - equilibration_steps) // output_frequency\n",
    "        trajectory[index] = previous_x\n",
    "        zwanzig_factor = ...\n",
    "        zwanzig_factor_avg[index+1] = running_average(zwanzig_factor, index, zwanzig_factor_avg[index])\n",
    "\n",
    "delta_F_fep_direct = ...\n",
    "print(f\"∆F = {delta_F_fep_direct}\")"
   ]
  },
  {
   "attachments": {},
   "cell_type": "markdown",
   "metadata": {},
   "source": [
    "Plot the running average of the zwanzig factor. It is possible to obtain a reference value for the Zwanzig factor by inverting the formula for $\\Delta F_{AB}$ and using the result form the Thermodynamics integration.\n",
    "\n",
    "$$\n",
    "\\Delta F_{AB} = k_BT\\log \\Braket{e^{-\\beta \\Delta U_{AB}}}_A \\quad \\Longrightarrow \\quad \\Braket{e^{-\\beta \\Delta U_{AB}}}_A = e^{\\beta \\Delta F_{AB}}\n",
    "$$"
   ]
  },
  {
   "cell_type": "code",
   "execution_count": null,
   "metadata": {},
   "outputs": [],
   "source": [
    "zwanzig_factor_from_TI = ..."
   ]
  },
  {
   "cell_type": "code",
   "execution_count": null,
   "metadata": {},
   "outputs": [],
   "source": [
    "fig, ax = plt.subplots(1, figsize=(5,5), dpi=180)\n",
    "\n",
    "plt.xlabel(\"frame\")\n",
    "plt.ylabel(r\"$<\\exp(-\\beta \\Delta U_{AB})>_A$\")\n",
    "plt.plot(zwanzig_factor_avg, label=\"Running Average (RA)\")\n",
    "plt.axhline(zwanzig_factor_avg[-1], ls = \":\", label=\"Average\", c=\"k\")\n",
    "plt.axhline(zwanzig_factor_from_TI, ls=\"-.\", label=\"Reference\", c=\"r\")\n",
    "plt.legend(frameon=False)\n",
    "plt.show()"
   ]
  },
  {
   "attachments": {},
   "cell_type": "markdown",
   "metadata": {},
   "source": [
    "If the previous tests failed, a step-by-step approach can be pursued. \n",
    "To make sure that the energies between the two systems do not differ too much, proceed by intermediate steps, running different simulations (note that they can be run in parallel ideally) for intermediate states between the source and target systems and computing the free energy difference between each successive pair. \n",
    "\n",
    "To slowly switch between source and target space, the same linear protocol of the thermodynamics integration example can be used, or you can come up with different protocols. Think about what you need to do: For each intermediate step a source and a target system need to be defined and the simulation needs to run following the dynamics corresponding to the defined source system. \n",
    "\n",
    "- Is the zwanzig factor now converging for each simulation? \n",
    "- What information can you obtain from the free-energy difference between each pair of systems? \n",
    "- How to obtain the free energy difference between source and target space?\n",
    "- Is the result for the free energy now stable with respect to running the simulation many times?"
   ]
  },
  {
   "cell_type": "code",
   "execution_count": null,
   "metadata": {},
   "outputs": [],
   "source": [
    "l_simulations = 10\n",
    "lambdas = np.linspace(0, 1, l_simulations)\n",
    "\n",
    "equilibration_steps = 10000\n",
    "n_steps_per_simulation = 1000000\n",
    "output_frequency = 10\n",
    "\n",
    "beta = 1\n",
    "timestep = 0.001\n",
    "diffusion_coefficient = 1\n",
    "\n",
    "initial_x = np.zeros(2)\n",
    "\n",
    "assert equilibration_steps < n_steps_per_simulation, \"Make sure you don't equilibrate longer than you simulate.\"\n",
    "assert output_frequency < n_steps_per_simulation, \"Make sure you don't output less often than you simulate.\"\n",
    "assert output_frequency > 0, \"The output frequency needs to be larger than 0\""
   ]
  },
  {
   "cell_type": "code",
   "execution_count": null,
   "metadata": {},
   "outputs": [],
   "source": [
    "delta_F_simulations = []\n",
    "zwanzig_factor_avg_simulations = []\n",
    "\n",
    "for il, l in enumerate(lambdas[:-1]):\n",
    "\n",
    "    previous_x = initial_x.copy()\n",
    "\n",
    "    total_frames = int(np.ceil((n_steps_per_simulation - equilibration_steps) / output_frequency))\n",
    "    trajectory = np.zeros((total_frames, 2))\n",
    "    zwanzig_factor_avg = np.zeros((total_frames+1))\n",
    "\n",
    "    for step in range(n_steps_per_simulation):\n",
    "\n",
    "        current_force = ...\n",
    "        \n",
    "        previous_x = update_positions(previous_x, current_force, beta, timestep, diffusion_coefficient)\n",
    "\n",
    "        if step >= equilibration_steps and step % output_frequency == 0:\n",
    "            index = (step - equilibration_steps) // output_frequency\n",
    "            trajectory[index] = previous_x\n",
    "            zwanzig_factor = ...\n",
    "            zwanzig_factor_avg[index+1] = running_average(zwanzig_factor, index, zwanzig_factor_avg[index])\n",
    "\n",
    "    zwanzig_factor_avg_simulations.append(zwanzig_factor_avg)\n",
    "\n",
    "    delta_F_step = ...\n",
    "    print(f\"∆F = {delta_F_step}\")\n",
    "    delta_F_simulations.append(delta_F_step)"
   ]
  },
  {
   "cell_type": "code",
   "execution_count": null,
   "metadata": {},
   "outputs": [],
   "source": [
    "fig, ax = plt.subplots(1, figsize=(5,5), dpi=180)\n",
    "\n",
    "plt.xlabel(\"frame\")\n",
    "plt.ylabel(r\"$<\\exp(-\\beta \\Delta U_{i,i+1})>_A$\")\n",
    "plt.ylim(0,2.5)\n",
    "\n",
    "for sim in range(l_simulations)[:-1]:\n",
    "    plt.plot(zwanzig_factor_avg_simulations[sim], label=f\"RA: {sim}, {sim+1}\")\n",
    "    plt.axhline(zwanzig_factor_avg_simulations[sim][-1], ls=\":\", c=\"k\")\n",
    "\n",
    "plt.legend(frameon=False, ncols=3)\n",
    "plt.show()"
   ]
  },
  {
   "cell_type": "code",
   "execution_count": null,
   "metadata": {},
   "outputs": [],
   "source": [
    "delta_F_fep_step = ...\n",
    "print(f\"∆F = {delta_F_fep_step}\")"
   ]
  },
  {
   "cell_type": "code",
   "execution_count": null,
   "metadata": {},
   "outputs": [],
   "source": [
    "fig, ax = plt.subplots(1, figsize=(5,5), dpi=180)\n",
    "\n",
    "plt.xlabel(\"simulation\")\n",
    "plt.ylabel(r\"$\\Delta F_{i,i+1}$\")\n",
    "plt.plot(delta_F_simulations)\n",
    "plt.show()"
   ]
  }
 ],
 "metadata": {
  "kernelspec": {
   "display_name": "Python 3",
   "language": "python",
   "name": "python3"
  },
  "language_info": {
   "codemirror_mode": {
    "name": "ipython",
    "version": 3
   },
   "file_extension": ".py",
   "mimetype": "text/x-python",
   "name": "python",
   "nbconvert_exporter": "python",
   "pygments_lexer": "ipython3",
   "version": "3.8.5"
  },
  "orig_nbformat": 4,
  "vscode": {
   "interpreter": {
    "hash": "4ee56710435aebc24fbc97be8662dfb336133fd79cf2245d2e9c551b966749bf"
   }
  }
 },
 "nbformat": 4,
 "nbformat_minor": 2
}
