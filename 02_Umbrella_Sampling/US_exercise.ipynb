{
 "cells": [
  {
   "cell_type": "code",
   "execution_count": null,
   "metadata": {},
   "outputs": [],
   "source": [
    "import numpy as np\n",
    "from numba import jit\n",
    "\n",
    "import matplotlib.pyplot as plt\n",
    "\n",
    "from functools import partial\n",
    "\n",
    "import sys\n",
    "sys.path.append('../miniMD')\n",
    "from miniMD import *"
   ]
  },
  {
   "attachments": {},
   "cell_type": "markdown",
   "metadata": {},
   "source": [
    "# Umbrella Sampling\n",
    "\n",
    "Umbrella sampling is a widespread method to obtain free energies as a function of an arbitrary coordinate $\\zeta$. Here, an umbrella function should guide the sampling towards the regions of interest. While this guiding function can be of any form, in practice we often employ a simple harmonic potential as a function of $\\zeta$:\n",
    "\n",
    "$$U_B(x) = U(x) + U_{bias}(\\zeta)$$\n",
    "$$U_B(x) = U(x) + \\frac{k}{2} (\\zeta(x) - \\hat\\zeta )^2$$\n",
    "\n",
    "where $\\hat\\zeta$ describes the bias position and $k$ is the force constant. To efficiently obtain a density along the whole coordinate, we can sample the denisties at different bias centers (windows) $\\{\\hat\\zeta_0, \\hat\\zeta_1, ..., \\hat\\zeta_N\\}$ and later reconstruct the full free energy. Each window then samples from the pdf:\n",
    "\n",
    "$$p(x) = \\frac{Z}{Z_i} p_i(\\hat\\zeta) \\exp\\left[\\beta \\frac{k}{2} (\\zeta(x) - \\hat\\zeta_i )^2\\right] $$\n",
    "\n",
    "While $p_i(\\hat\\zeta) \\exp\\left[\\beta \\frac{k}{2} (\\zeta(x) - \\hat\\zeta_i )^2\\right]$ can be estimated based on the simulation, $Z_i$ is not easily obtainable. This factor corresponds to an offset of the free energies in each window with respect to each other and methods such as WHAM were developed to determine this offset self consistently."
   ]
  },
  {
   "attachments": {},
   "cell_type": "markdown",
   "metadata": {},
   "source": [
    "Lets start as always with a energy and force function, in this case it is the same as in the TI/FEP notebook:"
   ]
  },
  {
   "cell_type": "code",
   "execution_count": null,
   "metadata": {},
   "outputs": [],
   "source": [
    "\n",
    "@jit(nopython=True) \n",
    "def custom_potential_energy(current_x : np.ndarray) -> float:\n",
    "    \"\"\"\n",
    "    Calculates the potential energy given a configuration current_x. \n",
    "\n",
    "    Parameters\n",
    "    ----------\n",
    "    current_x : np.ndarray\n",
    "        Current configuration to be propagated. The shape of the array(current_x.shape) can vary depending on the system which is simulated.\n",
    "\n",
    "    Returns\n",
    "    -------\n",
    "    U : float\n",
    "        Potential energy of the configuration\n",
    "\n",
    "    \"\"\"\n",
    "\n",
    "    return 10 * ((current_x[0]**2 - 1)**2 + (current_x[0] - current_x[1])**2)\n",
    "\n",
    "\n",
    "@jit(nopython=True) \n",
    "def custom_force_function(current_x : np.ndarray) -> np.ndarray:\n",
    "    \"\"\"\n",
    "    Calculates the force given a configuration current_x.\n",
    "\n",
    "    Parameters\n",
    "    ----------\n",
    "    current_x : np.ndarray\n",
    "        Current configuration to be propagated. The shape of the array(current_x.shape) can vary depending on the system which is simulated.\n",
    "\n",
    "    Returns\n",
    "    -------\n",
    "    force : np.ndarray\n",
    "        Force corresponding the provided configuration.\n",
    "\n",
    "    \"\"\"\n",
    "    force = np.zeros(2)\n",
    "    \n",
    "    force[0] = -20 * (2 * current_x[0]**3 -current_x[0] - current_x[1])\n",
    "    force[1] = 20 * (current_x[0] - current_x[1])\n",
    "\n",
    "    return force\n"
   ]
  },
  {
   "attachments": {},
   "cell_type": "markdown",
   "metadata": {},
   "source": [
    "Next up, we need a definiton of our collective variable $\\zeta$. For simplicity, we here use the $x^{(0)}$ coordinate of the system, although a better choice might be the diagonal $x-y$ (optional task):\n"
   ]
  },
  {
   "cell_type": "code",
   "execution_count": null,
   "metadata": {},
   "outputs": [],
   "source": [
    "@jit(nopython=True) \n",
    "def identity(current_x : np.ndarray) -> float:\n",
    "\n",
    "    return current_x\n",
    "\n",
    "@jit(nopython=True) \n",
    "def custom_cv(current_x : np.ndarray) -> float:\n",
    "    \"\"\"\n",
    "    Calculates the collective variable zeta given a configuration current_x.\n",
    "\n",
    "    Parameters\n",
    "    ----------\n",
    "    current_x : np.ndarray\n",
    "        Current configuration. The shape of the array(current_x.shape) can vary depending on the system which is simulated.\n",
    "\n",
    "    Returns\n",
    "    -------\n",
    "    zeta : float\n",
    "        CV corresponding the provided configuration.\n",
    "    \"\"\"\n",
    "\n",
    "    return current_x[..., 0]"
   ]
  },
  {
   "attachments": {},
   "cell_type": "markdown",
   "metadata": {},
   "source": [
    "The bias force can be added to the force arising from the systems potential energy landscape. To calculate the bias force, it is recommended to use the chain rule:\n",
    "\n",
    "$$\\frac{\\partial}{\\partial x} U_{bias}(\\zeta(x)) = \\frac{\\partial}{\\partial \\zeta} U_{bias}(\\zeta(x)) \\times \\frac{\\partial}{\\partial x} \\zeta(x)$$\n",
    "\n",
    "This ensures that you can easily switch the collective variable without having to rewrite the bias potential code and vice versa.\n",
    "\n",
    "**1) Implement the following functions in the next code block:**\n",
    "\n",
    "1) ''custom_cv_gradient'' should return $\\frac{\\partial}{\\partial x} \\zeta(x)$\n",
    "1) ''bias_potential_energy'' should return $U_{bias}(\\zeta(x))$ given a configuration x, a cv function, a bias center and a force constant\n",
    "1) ''bias_force_function'' should return $\\frac{\\partial}{\\partial x} U_{bias}(\\zeta(x))$ accepting the above defined custom_cv_gradient function"
   ]
  },
  {
   "cell_type": "code",
   "execution_count": null,
   "metadata": {},
   "outputs": [],
   "source": [
    "\n",
    "@jit(nopython=True) \n",
    "def bias_potential_energy(current_x : np.ndarray, cv_function : callable, bias_center : float, force_constant : float) -> np.ndarray:\n",
    "    \"\"\"\n",
    "    Calculates the harmonic bias energy given a configuration current_x, a cv function and bias parameters. \n",
    "\n",
    "    Parameters\n",
    "    ----------\n",
    "    current_x : np.ndarray\n",
    "        Current configuration. The shape of the array(current_x.shape) can vary depending on the system which is simulated.\n",
    "        \n",
    "    cv_function : callable\n",
    "        Function that accepts the current configuration and maps it onto the collective variable.\n",
    "\n",
    "    bias_center : float\n",
    "        Position of the bias (zeta hat).\n",
    "\n",
    "    force_constant : float\n",
    "        Force constant of the bias.\n",
    "\n",
    "    Returns\n",
    "    -------\n",
    "    U_bias : float\n",
    "        Bias energy corresponting to the configuration\n",
    "\n",
    "    \"\"\"\n",
    "    return ...\n",
    "\n",
    "@jit(nopython=True) \n",
    "def bias_force_function(current_x : np.ndarray, cv_function : callable, cv_gradient_function : callable, bias_center : float, force_constant : float) -> np.ndarray:\n",
    "    \"\"\"\n",
    "    Calculates the force associated to a harmonic bias given a configuration current_x, a cv function, its gradient w.r.t current_x and bias parameters. \n",
    "\n",
    "    Parameters\n",
    "    ----------\n",
    "    current_x : np.ndarray\n",
    "        Current configuration. The shape of the array(current_x.shape) can vary depending on the system which is simulated.\n",
    "        \n",
    "    cv_function : callable\n",
    "        Function that accepts the current configuration and maps it onto the collective variable.\n",
    "\n",
    "    cv_gradient_function : callable\n",
    "        Function that accepts the current configuration and returns the gradient w.r.t to the configuration.\n",
    "\n",
    "    bias_center : float\n",
    "        Position of the bias (zeta hat).\n",
    "\n",
    "    force_constant : float\n",
    "        Force constant of the bias.\n",
    "\n",
    "    Returns\n",
    "    -------\n",
    "    F_bias : np.ndarray\n",
    "        Force acting on x arising from the harmonic bias\n",
    "\n",
    "    \"\"\"\n",
    "\n",
    "    return ...\n",
    "\n",
    "@jit(nopython=True) \n",
    "def custom_cv_gradient(current_x : np.ndarray) -> np.ndarray:\n",
    "    \"\"\"\n",
    "    Calculates the gradient of the cv w.r.t to the configuration.\n",
    "\n",
    "    Parameters\n",
    "    ----------\n",
    "    current_x : np.ndarray\n",
    "        Current configuration. The shape of the array(current_x.shape) can vary depending on the system which is simulated.\n",
    "\n",
    "    Returns\n",
    "    -------\n",
    "    cv_gradient : np.ndarray\n",
    "        Gradient of custom_cv w.r.t. current_x\n",
    "\n",
    "    \"\"\"\n",
    "    \n",
    "    return ...\n"
   ]
  },
  {
   "attachments": {},
   "cell_type": "markdown",
   "metadata": {},
   "source": [
    "Next up we can define the parameters for the simulation. Here only bias_centers and force_constant are new parameters. bias_centers contains a list of centers to sample and we use the same force constant in each window:"
   ]
  },
  {
   "cell_type": "code",
   "execution_count": null,
   "metadata": {},
   "outputs": [],
   "source": [
    "equilibration_steps = 10000\n",
    "n_steps_per_window = 50000\n",
    "output_frequency = 1\n",
    "\n",
    "beta = 1\n",
    "timestep = 0.001\n",
    "diffusion_coefficient = 1\n",
    "\n",
    "bias_centers = np.linspace(-2,2,10)\n",
    "force_constant = 100\n",
    "\n",
    "initial_x = np.zeros(2)\n",
    "\n",
    "assert equilibration_steps < n_steps_per_window, \"Make sure you don't equilibrate longer than you simulate.\"\n",
    "assert output_frequency < n_steps_per_window, \"Make sure you don't output less often than you simulate.\"\n",
    "assert output_frequency > 0, \"The output frequency needs to be larger than 0\"\n"
   ]
  },
  {
   "attachments": {},
   "cell_type": "markdown",
   "metadata": {},
   "source": [
    "For the main simulation loop, we need additionally to loop over the bias centers to perform a simulation in each window.\n",
    "\n",
    "**2) Complete the simulation code to obtain a trajectory for each bias window**"
   ]
  },
  {
   "cell_type": "code",
   "execution_count": null,
   "metadata": {},
   "outputs": [],
   "source": [
    "window_trajectories = []\n",
    "\n",
    "for center in bias_centers:\n",
    "\n",
    "    previous_x = initial_x.copy()\n",
    "    \n",
    "    total_frames = int(np.ceil((n_steps_per_window - equilibration_steps) / output_frequency))\n",
    "    trajectory = np.zeros((total_frames , 2))\n",
    "\n",
    "    for step in range(n_steps_per_window):\n",
    "\n",
    "        current_force = ...\n",
    "        \n",
    "        previous_x = update_positions(previous_x, current_force, beta, timestep, diffusion_coefficient)\n",
    "\n",
    "        if step >= equilibration_steps and step % output_frequency == 0:\n",
    "            index = (step - equilibration_steps) // output_frequency\n",
    "            trajectory[index] = previous_x\n",
    "\n",
    "    window_trajectories.append(trajectory)"
   ]
  },
  {
   "attachments": {},
   "cell_type": "markdown",
   "metadata": {},
   "source": [
    "**3) Visualize the trajectories in each window using the plotting code below.**"
   ]
  },
  {
   "cell_type": "code",
   "execution_count": null,
   "metadata": {},
   "outputs": [],
   "source": [
    "fig, ax = plt.subplots(1, figsize=(4,4), dpi=180)\n",
    "\n",
    "\n",
    "for i, t in enumerate(window_trajectories):\n",
    "\n",
    "    ...\n",
    "\n",
    "\n",
    "\n",
    "x_values = np.linspace(-2.6, 2.6, 100)\n",
    "y_values = np.linspace(-2.6, 2.6, 100)\n",
    "\n",
    "x_grid, y_grid = np.meshgrid(x_values, y_values)\n",
    "energies = np.zeros((len(x_values), len(y_values)))\n",
    "\n",
    "for i in range(len(x_values)):\n",
    "    for j in range(len(y_values)):\n",
    "\n",
    "        energies[i,j] = custom_potential_energy(np.array([x_grid[i, j], y_grid[i, j]]))\n",
    "\n",
    "\n",
    "ax.contourf(x_grid, y_grid, energies, levels=np.linspace(0, 20, 10), cmap=\"RdBu_r\")\n",
    "\n",
    "ax.legend(frameon=False, loc=\"upper left\", ncol=2, fontsize=6)\n",
    "ax.set_xlabel(\"x$^{0}$\")\n",
    "ax.set_ylabel(\"x$^{1}$\")\n",
    "\n",
    "plt.show()"
   ]
  },
  {
   "attachments": {},
   "cell_type": "markdown",
   "metadata": {},
   "source": [
    "**4) Estimate the densities along $\\zeta$ for each window (using np.histogram) and show the results in a single plot.**"
   ]
  },
  {
   "cell_type": "code",
   "execution_count": null,
   "metadata": {},
   "outputs": [],
   "source": [
    "window_densities = []\n",
    "bins = np.linspace(-2,2,100)\n",
    "bin_centers = (bins[1:] + bins[:-1]) / 2\n",
    "\n",
    "for i, t in enumerate(window_trajectories):\n",
    "\n",
    "    ..."
   ]
  },
  {
   "cell_type": "code",
   "execution_count": null,
   "metadata": {},
   "outputs": [],
   "source": [
    "fig, ax = plt.subplots(1, figsize=(4,3), dpi=180)\n",
    "\n",
    "for i, d in enumerate(window_densities):\n",
    "\n",
    "    ax.plot(bin_centers, d)\n",
    "    ax.fill_between(bin_centers, np.zeros_like(d), d, alpha=0.5)\n",
    "    \n",
    "ax.set_xlabel(\"$\\hat\\zeta$\")\n",
    "ax.set_ylabel(\"$p_i(\\hat\\zeta)$\")\n",
    "plt.show()"
   ]
  },
  {
   "attachments": {},
   "cell_type": "markdown",
   "metadata": {},
   "source": [
    "**5) Estimate the free energies along $\\zeta$ for each window (using np.histogram) and show the results in a single plot.**"
   ]
  },
  {
   "cell_type": "code",
   "execution_count": null,
   "metadata": {},
   "outputs": [],
   "source": [
    "window_free_energies = []\n",
    "\n",
    "for i, d in enumerate(window_densities):\n",
    "\n",
    "    ...\n"
   ]
  },
  {
   "cell_type": "code",
   "execution_count": null,
   "metadata": {},
   "outputs": [],
   "source": [
    "fig, ax = plt.subplots(1, figsize=(4,3), dpi=180)\n",
    "\n",
    "for i, d in enumerate(window_free_energies):\n",
    "\n",
    "    ax.plot(bin_centers, d)\n",
    "    \n",
    "ax.set_xlabel(\"$\\hat\\zeta$\")\n",
    "ax.set_ylabel(\"$F_i(\\hat\\zeta)$\")\n",
    "plt.show()"
   ]
  },
  {
   "attachments": {},
   "cell_type": "markdown",
   "metadata": {},
   "source": [
    "As a last step, we want to recover the unbiased distribution:\n",
    "\n",
    "$$p(\\hat\\zeta) = \\frac{Z}{Z_i} p_i(\\hat\\zeta) \\exp\\left[\\beta \\frac{k}{2} (\\zeta(x) - \\hat\\zeta_i )^2\\right] $$\n",
    "\n",
    "which translates to the free energy:\n",
    "\n",
    "$$F(\\hat\\zeta) = -\\frac{1}{\\beta} \\left( \\ln Z - \\ln Z_i + \\ln p_i(\\hat\\zeta) + \\left[\\beta \\frac{k}{2} (\\zeta(x) - \\hat\\zeta_i )^2\\right] \\right)$$\n",
    "$$F(\\hat\\zeta) = F_i(\\hat\\zeta) - \\left[\\frac{k}{2} (\\zeta(x) - \\hat\\zeta_i )^2\\right] - \\frac{1}{\\beta} \\left( \\ln Z - \\ln Z_i \\right)$$\n",
    "$$F(\\hat\\zeta) = F_i(\\hat\\zeta) - \\left[\\frac{k}{2} (\\zeta(x) - \\hat\\zeta_i )^2\\right] + \\Delta F_i$$\n",
    "\n",
    "The offset $\\Delta F_i$ comes into play later since we now want to look at the free energy within a single window. You can see from the above equations that you have to subtract the bias potential from the free energy within a window to obtain the unbiased free energy $F(\\hat\\zeta)$ up to an additive constant. \n",
    "\n",
    "**6) Use the relation above to obtain the bias-corrected $F(\\hat\\zeta)$ for each window and plot the resulting free energies.**"
   ]
  },
  {
   "cell_type": "code",
   "execution_count": null,
   "metadata": {},
   "outputs": [],
   "source": [
    "corrected_window_free_energies = []\n",
    "\n",
    "for i, f in enumerate(window_free_energies):    \n",
    "\n",
    "    ...\n"
   ]
  },
  {
   "cell_type": "code",
   "execution_count": null,
   "metadata": {},
   "outputs": [],
   "source": [
    "fig, ax = plt.subplots(1, figsize=(4,3), dpi=180)\n",
    "\n",
    "for i, d in enumerate(corrected_window_free_energies):\n",
    "\n",
    "    ax.plot(bin_centers, d)\n",
    "    \n",
    "ax.set_xlabel(r\"$\\hat\\zeta$\")\n",
    "ax.set_ylabel(r\"$F_i(\\hat\\zeta)$\")\n",
    "plt.show()"
   ]
  },
  {
   "attachments": {},
   "cell_type": "markdown",
   "metadata": {},
   "source": [
    "Last but not least, we need to stich together the fragments obtained above. For this, we need to find the offset $\\Delta F_i$ for each window, representing a shift up and down of each fragment above. In this example we can do this by hand. However, in practice, one can use methods such as WHAM to obtain a more accurate result.\n",
    "\n",
    "**6) Fill in the offsets below one after the other by repeadetly plotting the reconstructed surface**\n",
    "\n",
    "**7) Describe the origin of the pattern visible in the final offsets.**"
   ]
  },
  {
   "cell_type": "code",
   "execution_count": null,
   "metadata": {},
   "outputs": [],
   "source": [
    "\n",
    "offset = np.zeros(len(corrected_window_free_energies))\n",
    "\n",
    "offset[0] = 0\n",
    "offset[1] = ...\n",
    "offset[2] = ...\n",
    "offset[3] = ...\n",
    "offset[4] = ...\n",
    "offset[5] = ...\n",
    "offset[6] = ...\n",
    "offset[7] = ...\n",
    "offset[8] = ...\n",
    "offset[9] = ..."
   ]
  },
  {
   "cell_type": "code",
   "execution_count": null,
   "metadata": {},
   "outputs": [],
   "source": [
    "fig, ax = plt.subplots(1, figsize=(4,3), dpi=180)\n",
    "\n",
    "for i, d in enumerate(corrected_window_free_energies):\n",
    "\n",
    "    ax.plot(bin_centers, d + offset[i])\n",
    "    \n",
    "ax.set_xlabel(r\"$\\hat\\zeta$\")\n",
    "ax.set_ylabel(r\"$F(\\hat\\zeta)$\")\n",
    "plt.show()"
   ]
  },
  {
   "cell_type": "code",
   "execution_count": null,
   "metadata": {},
   "outputs": [],
   "source": []
  }
 ],
 "metadata": {
  "kernelspec": {
   "display_name": "Python 3",
   "language": "python",
   "name": "python3"
  },
  "language_info": {
   "codemirror_mode": {
    "name": "ipython",
    "version": 3
   },
   "file_extension": ".py",
   "mimetype": "text/x-python",
   "name": "python",
   "nbconvert_exporter": "python",
   "pygments_lexer": "ipython3",
   "version": "3.8.5"
  },
  "orig_nbformat": 4,
  "vscode": {
   "interpreter": {
    "hash": "4ee56710435aebc24fbc97be8662dfb336133fd79cf2245d2e9c551b966749bf"
   }
  }
 },
 "nbformat": 4,
 "nbformat_minor": 2
}
